{
 "cells": [
  {
   "cell_type": "markdown",
   "metadata": {},
   "source": [
    "## Lecture 2 - Introduction to Numpy"
   ]
  },
  {
   "cell_type": "markdown",
   "metadata": {
    "id": "VanRy5ChGuzh"
   },
   "source": [
    "### Basics of using [NumPy](https://numpy.org/doc/stable/).\n",
    "\n",
    "Will use the packages `numpy` and `time` in this notebook. \n",
    "> If not using Google Colab (and haven't used them before) you might have to install the packages the very first time. To do so, use one of the following terminal commands from your home directory.\n",
    "\n",
    "`py -m pip install <package name>` (Windows)\n",
    "\n",
    "`sudo pip install <package name>` (Linux or Unix-based)"
   ]
  },
  {
   "cell_type": "code",
   "execution_count": 1,
   "metadata": {
    "executionInfo": {
     "elapsed": 137,
     "status": "ok",
     "timestamp": 1716555003108,
     "user": {
      "displayName": "Christopher Cornwell",
      "userId": "10439702716895294443"
     },
     "user_tz": 240
    },
    "id": "oii38hnKCa_z"
   },
   "outputs": [],
   "source": [
    "import numpy as np\n",
    "import time"
   ]
  },
  {
   "cell_type": "markdown",
   "metadata": {},
   "source": [
    "---"
   ]
  },
  {
   "cell_type": "markdown",
   "metadata": {},
   "source": [
    "### NumPy arrays"
   ]
  },
  {
   "cell_type": "markdown",
   "metadata": {},
   "source": [
    "The main object that you work with in Numpy is an `ndarray`, \n",
    "\n",
    "constructed by typing `np.array(the_list)`. \n",
    "\n",
    "If the items in the list are numerical &ndash; `int` or `float` &ndash; then the `ndarray` object is much like a vector &ndash; also called a _tensor of order 1_ (confusingly, some call this a ``rank 1 tensor'', though this is not rank in the usual sense). \n",
    "\n",
    "For any integer $d\\ge 1$, you can have a Numpy array that is a tensor of order $d$. You may also read it described as a \"$d$-dimensional array.\"\n",
    "\n",
    "One of the attributes of a Numpy array is its _shape_. When it is order 1, the shape has the form `(n,)`, where `n` is the number of items (coordinates) in that vector."
   ]
  },
  {
   "cell_type": "code",
   "execution_count": 21,
   "metadata": {},
   "outputs": [
    {
     "name": "stdout",
     "output_type": "stream",
     "text": [
      "[-0.5  1.   2.1]\n"
     ]
    }
   ],
   "source": [
    "v = np.array([-1,1,1])\n",
    "\n",
    "w = np.array([0.5, 0, 1.1])\n",
    "\n",
    "# calculates the vector sum of the numpy arrays \n",
    "# numpy 1d arrays are vectors or a tensor of order 1 mathematically\n",
    "vector_sum = v + w\n",
    "\n",
    "print(vector_sum)"
   ]
  },
  {
   "cell_type": "code",
   "execution_count": 23,
   "metadata": {},
   "outputs": [
    {
     "data": {
      "text/plain": [
       "(3,)"
      ]
     },
     "execution_count": 23,
     "metadata": {},
     "output_type": "execute_result"
    }
   ],
   "source": [
    "# Here is the shape of v; It tells you the size of the vector\n",
    "v.shape"
   ]
  },
  {
   "cell_type": "code",
   "execution_count": 25,
   "metadata": {},
   "outputs": [
    {
     "data": {
      "text/plain": [
       "numpy.ndarray"
      ]
     },
     "execution_count": 25,
     "metadata": {},
     "output_type": "execute_result"
    }
   ],
   "source": [
    "type(v)"
   ]
  },
  {
   "cell_type": "markdown",
   "metadata": {
    "id": "AJNpIKzMHXPw"
   },
   "source": [
    "An array made from a list of lists, each \"inside\" list having numeric type items, is a tensor of order 2, i.e., a matrix. (The inside lists must all have the same length.)\n",
    "\n",
    "If `A` is such an object, then to refer to the entry in row `i` and column `j`, use `A[i,j]`.\n",
    "\n",
    "Below, we make two matrices, `A` and `B`, and another vector `u`.  See how we can do linear combinations as in linear algebra."
   ]
  },
  {
   "cell_type": "code",
   "execution_count": 50,
   "metadata": {},
   "outputs": [
    {
     "name": "stdout",
     "output_type": "stream",
     "text": [
      "[[1 2 3]\n",
      " [4 5 6]]\n",
      "Shape (Rows, Columns) of Matrix: (2, 3)\n"
     ]
    }
   ],
   "source": [
    "# numpy 2d arrays are matrices or a tensor of order 2 mathematically\n",
    "matrix = np.array([[1,2,3], [4,5,6]])\n",
    "print(matrix)\n",
    "\n",
    "print(f\"Shape (Rows, Columns) of Matrix: {matrix.shape}\")"
   ]
  },
  {
   "cell_type": "code",
   "execution_count": 45,
   "metadata": {
    "executionInfo": {
     "elapsed": 116,
     "status": "ok",
     "timestamp": 1716555010901,
     "user": {
      "displayName": "Christopher Cornwell",
      "userId": "10439702716895294443"
     },
     "user_tz": 240
    },
    "id": "2gCHlGC2C1cd"
   },
   "outputs": [],
   "source": [
    "u = np.array([1,1,0])\n",
    "A = np.array([[1,2,3],[4,5,6]])\n",
    "B = np.array([[1,0],[1,-1],[1,1]])"
   ]
  },
  {
   "cell_type": "code",
   "execution_count": 47,
   "metadata": {
    "colab": {
     "base_uri": "https://localhost:8080/"
    },
    "executionInfo": {
     "elapsed": 155,
     "status": "ok",
     "timestamp": 1715948710063,
     "user": {
      "displayName": "Christopher Cornwell",
      "userId": "10439702716895294443"
     },
     "user_tz": 240
    },
    "id": "-KNg85irIATX",
    "outputId": "f0533303-10e2-4c59-a5d7-8452276bd722"
   },
   "outputs": [
    {
     "data": {
      "text/plain": [
       "array([1, 3, 1])"
      ]
     },
     "execution_count": 47,
     "metadata": {},
     "output_type": "execute_result"
    }
   ],
   "source": [
    "v + 2*u"
   ]
  },
  {
   "cell_type": "code",
   "execution_count": 39,
   "metadata": {
    "colab": {
     "base_uri": "https://localhost:8080/"
    },
    "executionInfo": {
     "elapsed": 148,
     "status": "ok",
     "timestamp": 1715948721062,
     "user": {
      "displayName": "Christopher Cornwell",
      "userId": "10439702716895294443"
     },
     "user_tz": 240
    },
    "id": "8SVO9uxLM-ZB",
    "outputId": "4d1dd682-bc26-4fde-d5b7-f6f025244fc6"
   },
   "outputs": [
    {
     "data": {
      "text/plain": [
       "array([[ 2,  4,  6],\n",
       "       [ 8, 10, 12]])"
      ]
     },
     "execution_count": 39,
     "metadata": {},
     "output_type": "execute_result"
    }
   ],
   "source": [
    "2*A"
   ]
  },
  {
   "cell_type": "code",
   "execution_count": null,
   "metadata": {},
   "outputs": [],
   "source": [
    "# the shape of 2d array is (m,n) when it is an m x n matrix\n",
    "A.shape"
   ]
  },
  {
   "cell_type": "markdown",
   "metadata": {
    "id": "pZuPFsrzND9V"
   },
   "source": [
    "Multiplying matrices and multiplying a matrix times a vector are done easily. To multiply matrices, use the `@` symbol (in recent versions of Python, this replaces `np.matmul()`). This will work for a matrix times a vector too. However, for matrices and vectors (not higher rank tensors) you could also use `np.dot()`. This performs the dot product on each row (if a matrix is given first)."
   ]
  },
  {
   "cell_type": "code",
   "execution_count": 41,
   "metadata": {
    "colab": {
     "base_uri": "https://localhost:8080/"
    },
    "executionInfo": {
     "elapsed": 124,
     "status": "ok",
     "timestamp": 1716555037112,
     "user": {
      "displayName": "Christopher Cornwell",
      "userId": "10439702716895294443"
     },
     "user_tz": 240
    },
    "id": "tvZ2U_puiJT_",
    "outputId": "698e075b-72ca-40f0-dcc0-9588d37a2a55"
   },
   "outputs": [
    {
     "data": {
      "text/plain": [
       "array([[ 6,  1],\n",
       "       [15,  1]])"
      ]
     },
     "execution_count": 41,
     "metadata": {},
     "output_type": "execute_result"
    }
   ],
   "source": [
    "# products with arrays; this does the dot product\n",
    "'''\n",
    "A = \n",
    "[[1 2 3]\n",
    " [4 5 6]]\n",
    " \n",
    "B =\n",
    "[[ 1  0]\n",
    " [ 1 -1]\n",
    " [ 1  1]]\n",
    "'''\n",
    "A@B"
   ]
  },
  {
   "cell_type": "code",
   "execution_count": 52,
   "metadata": {
    "colab": {
     "base_uri": "https://localhost:8080/",
     "height": 34
    },
    "executionInfo": {
     "elapsed": 547,
     "status": "ok",
     "timestamp": 1580852078187,
     "user": {
      "displayName": "Christopher Cornwell",
      "photoUrl": "https://lh3.googleusercontent.com/a-/AAuE7mD1vIJYtRmHu2fBlSZVG0Gd0LlDFOeUFrZFxs4_ww=s64",
      "userId": "10439702716895294443"
     },
     "user_tz": 300
    },
    "id": "WMLnbPf2Hz7W",
    "outputId": "5ceba066-121d-4a5f-dc47-bbe5ae5f7f17"
   },
   "outputs": [
    {
     "data": {
      "text/plain": [
       "array([4, 7])"
      ]
     },
     "execution_count": 52,
     "metadata": {},
     "output_type": "execute_result"
    }
   ],
   "source": [
    "A@v"
   ]
  },
  {
   "cell_type": "markdown",
   "metadata": {},
   "source": [
    "#### Indexing and slicing"
   ]
  },
  {
   "cell_type": "markdown",
   "metadata": {},
   "source": [
    "Indexing a 1d array is the same as for a list. In a matrix (2d array), separate the row and column by a comma. So, `A[0,1]` is the entry from the top row, index 1."
   ]
  },
  {
   "cell_type": "code",
   "execution_count": 62,
   "metadata": {},
   "outputs": [
    {
     "name": "stdout",
     "output_type": "stream",
     "text": [
      "-1\n",
      "2\n"
     ]
    }
   ],
   "source": [
    "'''\n",
    "v = [-1  1  1]\n",
    "\n",
    "A = \n",
    "[[1 2 3]\n",
    " [4 5 6]]\n",
    "'''\n",
    "\n",
    "print(v[0])\n",
    "print(A[0,1])"
   ]
  },
  {
   "cell_type": "markdown",
   "metadata": {},
   "source": [
    "Slicing of a 1d array is also the same as for lists. For a 2d array, you can use slicing in each of the index positions (for rows and for columns). \n",
    "\n",
    "For example, `A[:,0]` gives all entries in the first column &ndash; the colon goes through all rows, and you just take index 0 item from each row."
   ]
  },
  {
   "cell_type": "code",
   "execution_count": 88,
   "metadata": {},
   "outputs": [
    {
     "name": "stdout",
     "output_type": "stream",
     "text": [
      "[1 4]\n",
      "[2 5]\n"
     ]
    }
   ],
   "source": [
    "'''\n",
    "A = \n",
    "[[1 2 3]\n",
    " [4 5 6]]\n",
    "'''\n",
    "\n",
    "# Gives first column of A\n",
    "print(A[:,0])\n",
    "\n",
    "# Gives second column of A\n",
    "print(A[:,1])"
   ]
  },
  {
   "cell_type": "markdown",
   "metadata": {},
   "source": [
    "Say we have a larger matrix, but want a submatrix."
   ]
  },
  {
   "cell_type": "code",
   "execution_count": 102,
   "metadata": {},
   "outputs": [
    {
     "name": "stdout",
     "output_type": "stream",
     "text": [
      "[[3 4]\n",
      " [7 8]]\n"
     ]
    }
   ],
   "source": [
    "M = np.array([[1,2,3,4],[5,6,7,8],[9,10,11,12],[13,14,15,16]])\n",
    "\n",
    "'''\n",
    "M = \n",
    "[[ 1  2  3  4]\n",
    " [ 5  6  7  8]\n",
    " [ 9 10 11 12]\n",
    " [13 14 15 16]\n",
    "'''\n",
    "\n",
    "# To get the top-right 2x2 submatrix\n",
    "print(M[:2, -2:]) # <- first two rows, last two columns"
   ]
  },
  {
   "cell_type": "code",
   "execution_count": 112,
   "metadata": {},
   "outputs": [
    {
     "data": {
      "text/plain": [
       "array([[ 1,  3],\n",
       "       [ 5,  7],\n",
       "       [ 9, 11],\n",
       "       [13, 15]])"
      ]
     },
     "execution_count": 112,
     "metadata": {},
     "output_type": "execute_result"
    }
   ],
   "source": [
    "# With arrays, you can even get non-consecutive slices\n",
    "M[:,[0,2]] # <- In every single row, get entries with column indices 0 and 2"
   ]
  },
  {
   "cell_type": "markdown",
   "metadata": {},
   "source": [
    "The transpose of a matrix is obtained simply by typing `.T` after the matrix."
   ]
  },
  {
   "cell_type": "code",
   "execution_count": 114,
   "metadata": {},
   "outputs": [
    {
     "data": {
      "text/plain": [
       "array([[1, 4],\n",
       "       [2, 5],\n",
       "       [3, 6]])"
      ]
     },
     "execution_count": 114,
     "metadata": {},
     "output_type": "execute_result"
    }
   ],
   "source": [
    "'''\n",
    "A = \n",
    "[[1 2 3]\n",
    " [4 5 6]]\n",
    "'''\n",
    "\n",
    "# Transpose of A\n",
    "A.T"
   ]
  },
  {
   "cell_type": "markdown",
   "metadata": {},
   "source": [
    "---"
   ]
  },
  {
   "cell_type": "markdown",
   "metadata": {},
   "source": [
    "### Linear algebra"
   ]
  },
  {
   "cell_type": "markdown",
   "metadata": {},
   "source": [
    "#### All zero matrix and the identity matrix\n",
    "Since they are needed so often, there is a function to construct a tensor filled with zeros of your chosen size and also a function to construct an $n\\times n$ identity matrix."
   ]
  },
  {
   "cell_type": "code",
   "execution_count": 134,
   "metadata": {},
   "outputs": [
    {
     "name": "stdout",
     "output_type": "stream",
     "text": [
      "[0. 0. 0. 0. 0.]\n",
      "---------------\n",
      "[[0. 0. 0. 0.]\n",
      " [0. 0. 0. 0.]\n",
      " [0. 0. 0. 0.]\n",
      " [0. 0. 0. 0.]]\n"
     ]
    }
   ],
   "source": [
    "zerovector = np.zeros(5)\n",
    "zeromatrix = np.zeros((4,4))\n",
    "print(zerovector)\n",
    "print(\"---------------\")\n",
    "print(zeromatrix)"
   ]
  },
  {
   "cell_type": "code",
   "execution_count": 136,
   "metadata": {},
   "outputs": [
    {
     "data": {
      "text/plain": [
       "array([[3, 0, 0],\n",
       "       [0, 2, 0],\n",
       "       [0, 0, 1]])"
      ]
     },
     "execution_count": 136,
     "metadata": {},
     "output_type": "execute_result"
    }
   ],
   "source": [
    "# quickly make a diagonal matrix\n",
    "np.diag([3,2,1])"
   ]
  },
  {
   "cell_type": "code",
   "execution_count": 146,
   "metadata": {},
   "outputs": [
    {
     "data": {
      "text/plain": [
       "array([[1., 0., 0.],\n",
       "       [0., 1., 0.],\n",
       "       [0., 0., 1.]])"
      ]
     },
     "execution_count": 146,
     "metadata": {},
     "output_type": "execute_result"
    }
   ],
   "source": [
    "# quickly make an identity matrix\n",
    "np.identity(3)"
   ]
  },
  {
   "cell_type": "markdown",
   "metadata": {},
   "source": [
    "Instead of getting a submatrix, if you want to \"zero out\": (1) every entry above the diagonal of `A`, (2) every entry below, or (3) both above and below:\n",
    "> (1) `np.tril(A)`; &nbsp;&nbsp;&nbsp;&nbsp; (2) `np.triu(A)`; &nbsp;&nbsp;&nbsp;&nbsp; or (3) `np.diag(A)`</div>"
   ]
  },
  {
   "cell_type": "code",
   "execution_count": 160,
   "metadata": {},
   "outputs": [
    {
     "name": "stdout",
     "output_type": "stream",
     "text": [
      "[[ 1  0  0  0]\n",
      " [ 5  6  0  0]\n",
      " [ 9 10 11  0]\n",
      " [13 14 15 16]]\n"
     ]
    }
   ],
   "source": [
    "'''\n",
    "M =\n",
    "[[ 1  2  3  4]\n",
    " [ 5  6  7  8]\n",
    " [ 9 10 11 12]\n",
    " [13 14 15 16]]\n",
    "'''\n",
    "print(np.tril(M))"
   ]
  },
  {
   "cell_type": "markdown",
   "metadata": {
    "id": "Ex540i5fLGcI"
   },
   "source": [
    "> Numpy has a [Linear Algebra](https://numpy.org/doc/stable/reference/routines.linalg.html#module-numpy.linalg) submodule with a lot of functionality for doing linear algebra. For example, the determinant of a matrix `np.linalg.det()`, a matrix inverse, `np.linalg.inv()`, and computing eigenvalues and eigenvectors, `np.linalg.eig()`. "
   ]
  },
  {
   "cell_type": "code",
   "execution_count": 196,
   "metadata": {
    "colab": {
     "base_uri": "https://localhost:8080/"
    },
    "executionInfo": {
     "elapsed": 172,
     "status": "ok",
     "timestamp": 1715949809253,
     "user": {
      "displayName": "Christopher Cornwell",
      "userId": "10439702716895294443"
     },
     "user_tz": 240
    },
    "id": "1cXAM862k454",
    "outputId": "049fdb3b-06ab-4f7b-8c53-1239feaa9848"
   },
   "outputs": [
    {
     "name": "stdout",
     "output_type": "stream",
     "text": [
      "-1.439243268894363e-30\n",
      "-2.9999999999999996\n"
     ]
    }
   ],
   "source": [
    "'''\n",
    "M =\n",
    "[[ 1  2  3  4]\n",
    " [ 5  6  7  8]\n",
    " [ 9 10 11 12]\n",
    " [13 14 15 16]]\n",
    "'''\n",
    "\n",
    "'''\n",
    "A = \n",
    "[[1 2 3]\n",
    " [4 5 6]]\n",
    "'''\n",
    "\n",
    "# Determinant of a Matrix\n",
    "print(np.linalg.det(M))\n",
    "print(np.linalg.det(A[:,:2]))\n",
    "\n",
    "# Inverse of a Matrix\n",
    "# print(np.linalg.inv(M))\n",
    "\n",
    "# Eigenvalues and Eigenvectors of a Matrix\n",
    "# eigenvalues_of_M, eigenvectors_of_M = np.linalg.eig(M)\n",
    "# print(f\"Eigenvalues of M: {eigenvalues_of_M}\")\n",
    "# print(f\"Eigenvectors of M: {eigenvectors_of_M}\")"
   ]
  },
  {
   "cell_type": "markdown",
   "metadata": {},
   "source": [
    "#### Dealing with Errors\n",
    "Say we want to solve a linear system $A\\textbf{x} = \\textbf{b}$. If $A$ is a square, invertible matrix, Numpy handles it easily with the `solve` function in the `linalg` submodule."
   ]
  },
  {
   "cell_type": "code",
   "execution_count": null,
   "metadata": {},
   "outputs": [],
   "source": [
    "M = A@A.T\n",
    "M"
   ]
  },
  {
   "cell_type": "code",
   "execution_count": null,
   "metadata": {},
   "outputs": [],
   "source": [
    "np.linalg.solve(M, np.array([-2,1]))"
   ]
  },
  {
   "cell_type": "markdown",
   "metadata": {},
   "source": [
    "What about solving a system when the coefficient matrix is not square?"
   ]
  },
  {
   "cell_type": "code",
   "execution_count": 200,
   "metadata": {},
   "outputs": [
    {
     "ename": "LinAlgError",
     "evalue": "Last 2 dimensions of the array must be square",
     "output_type": "error",
     "traceback": [
      "\u001b[0;31m---------------------------------------------------------------------------\u001b[0m",
      "\u001b[0;31mLinAlgError\u001b[0m                               Traceback (most recent call last)",
      "Cell \u001b[0;32mIn[200], line 6\u001b[0m\n\u001b[1;32m      3\u001b[0m b \u001b[38;5;241m=\u001b[39m np\u001b[38;5;241m.\u001b[39marray([\u001b[38;5;241m1\u001b[39m,\u001b[38;5;241m-\u001b[39m\u001b[38;5;241m5\u001b[39m])\n\u001b[1;32m      4\u001b[0m \u001b[38;5;66;03m# system has a solution x = [0, -1, 1]\u001b[39;00m\n\u001b[1;32m      5\u001b[0m \u001b[38;5;66;03m# but next line raises an error\u001b[39;00m\n\u001b[0;32m----> 6\u001b[0m np\u001b[38;5;241m.\u001b[39mlinalg\u001b[38;5;241m.\u001b[39msolve(A, b)\n",
      "File \u001b[0;32m/opt/anaconda3/lib/python3.11/site-packages/numpy/linalg/linalg.py:396\u001b[0m, in \u001b[0;36msolve\u001b[0;34m(a, b)\u001b[0m\n\u001b[1;32m    394\u001b[0m a, _ \u001b[38;5;241m=\u001b[39m _makearray(a)\n\u001b[1;32m    395\u001b[0m _assert_stacked_2d(a)\n\u001b[0;32m--> 396\u001b[0m _assert_stacked_square(a)\n\u001b[1;32m    397\u001b[0m b, wrap \u001b[38;5;241m=\u001b[39m _makearray(b)\n\u001b[1;32m    398\u001b[0m t, result_t \u001b[38;5;241m=\u001b[39m _commonType(a, b)\n",
      "File \u001b[0;32m/opt/anaconda3/lib/python3.11/site-packages/numpy/linalg/linalg.py:213\u001b[0m, in \u001b[0;36m_assert_stacked_square\u001b[0;34m(*arrays)\u001b[0m\n\u001b[1;32m    211\u001b[0m m, n \u001b[38;5;241m=\u001b[39m a\u001b[38;5;241m.\u001b[39mshape[\u001b[38;5;241m-\u001b[39m\u001b[38;5;241m2\u001b[39m:]\n\u001b[1;32m    212\u001b[0m \u001b[38;5;28;01mif\u001b[39;00m m \u001b[38;5;241m!=\u001b[39m n:\n\u001b[0;32m--> 213\u001b[0m     \u001b[38;5;28;01mraise\u001b[39;00m LinAlgError(\u001b[38;5;124m'\u001b[39m\u001b[38;5;124mLast 2 dimensions of the array must be square\u001b[39m\u001b[38;5;124m'\u001b[39m)\n",
      "\u001b[0;31mLinAlgError\u001b[0m: Last 2 dimensions of the array must be square"
     ]
    }
   ],
   "source": [
    "# try this, read the error message\n",
    "A = np.array([[1,2,3],[1,4,-1]])\n",
    "b = np.array([1,-5])\n",
    "# system has a solution x = [0, -1, 1]\n",
    "# but next line raises an error\n",
    "np.linalg.solve(A, b)"
   ]
  },
  {
   "cell_type": "markdown",
   "metadata": {},
   "source": [
    "---"
   ]
  },
  {
   "cell_type": "markdown",
   "metadata": {},
   "source": [
    "### Broadcasting and universal functions"
   ]
  },
  {
   "cell_type": "markdown",
   "metadata": {},
   "source": [
    "Say that you have a 1d array and you want the one whose entries are square roots of entries of your current one. How do you do it?\n",
    "> BTW, `np.sqrt()` takes the square root of a number."
   ]
  },
  {
   "cell_type": "code",
   "execution_count": 206,
   "metadata": {},
   "outputs": [
    {
     "name": "stdout",
     "output_type": "stream",
     "text": [
      "[  4   7  10  13  16  19  22  25  28  31  34  37  40  43  46  49  52  55\n",
      "  58  61  64  67  70  73  76  79  82  85  88  91  94  97 100 103 106 109\n",
      " 112 115 118 121 124 127 130 133 136 139 142 145 148 151 154 157 160 163\n",
      " 166 169 172 175 178 181 184 187 190 193 196 199 202 205 208 211 214 217\n",
      " 220 223 226 229 232 235 238 241 244 247 250 253 256 259 262 265 268 271\n",
      " 274 277 280 283 286 289 292 295 298]\n"
     ]
    }
   ],
   "source": [
    "# example array to use\n",
    "f = np.array([3*n+1 for n in range(1,100)])\n",
    "print(f)"
   ]
  },
  {
   "cell_type": "code",
   "execution_count": 226,
   "metadata": {},
   "outputs": [
    {
     "name": "stdout",
     "output_type": "stream",
     "text": [
      "[2.         2.64575131 3.16227766 3.60555128 4.         4.35889894\n",
      " 4.69041576 5.         5.29150262 5.56776436]\n"
     ]
    }
   ],
   "source": [
    "# Could use a for loop\n",
    "sq_f = []\n",
    "for x in f:\n",
    "  sq_f.append(np.sqrt(x))\n",
    "sq_f = np.array(sq_f)\n",
    "print(sq_f[:10]) # Only printing first 10 values"
   ]
  },
  {
   "cell_type": "markdown",
   "metadata": {},
   "source": [
    "But NumPy has a better way: **universal functions** and **Broadcasting**.\n",
    "\n",
    "The function `np.sqrt()` can accept an (nd)array and will take the square roots of all entries in the array."
   ]
  },
  {
   "cell_type": "code",
   "execution_count": 224,
   "metadata": {},
   "outputs": [
    {
     "name": "stdout",
     "output_type": "stream",
     "text": [
      "[2.         2.64575131 3.16227766 3.60555128 4.         4.35889894\n",
      " 4.69041576 5.         5.29150262 5.56776436]\n"
     ]
    }
   ],
   "source": [
    "# this one line will do it\n",
    "sq_f = np.sqrt(f)\n",
    "print(sq_f[:10]) # Only printing first 10 values"
   ]
  },
  {
   "cell_type": "markdown",
   "metadata": {},
   "source": [
    "Many functions in NumPy work this way &ndash; called a `ufunc` (universal function).\n",
    "\n",
    "Examples of ufuncs: `np.abs()`, `np.maximum()`, `np.minimum()`, `np.exp()`, `np.log()`."
   ]
  },
  {
   "cell_type": "code",
   "execution_count": 230,
   "metadata": {},
   "outputs": [
    {
     "ename": "TypeError",
     "evalue": "maximum() takes from 2 to 3 positional arguments but 1 were given",
     "output_type": "error",
     "traceback": [
      "\u001b[0;31m---------------------------------------------------------------------------\u001b[0m",
      "\u001b[0;31mTypeError\u001b[0m                                 Traceback (most recent call last)",
      "Cell \u001b[0;32mIn[230], line 1\u001b[0m\n\u001b[0;32m----> 1\u001b[0m np\u001b[38;5;241m.\u001b[39mmaximum(f)\n",
      "\u001b[0;31mTypeError\u001b[0m: maximum() takes from 2 to 3 positional arguments but 1 were given"
     ]
    }
   ],
   "source": [
    "np.maximum(f,100 - 2*f)"
   ]
  },
  {
   "cell_type": "markdown",
   "metadata": {},
   "source": [
    "In a minute, we will see that universal functions not only make less lines of code, but dramatically improve runtimes.\n",
    "\n",
    "Some other functions to use with arrays:\n",
    "> `np.sum()`, `np.max()`, `np.min()`\n",
    "These are not ufuncs, but they perform quickly on NumPy arrays (for related reasons).  \n",
    "&#9888; However, they are not quick on lists! Use the built-in `sum()`, `max()`, and `min()` on a list."
   ]
  },
  {
   "cell_type": "code",
   "execution_count": null,
   "metadata": {},
   "outputs": [],
   "source": [
    "A"
   ]
  },
  {
   "cell_type": "code",
   "execution_count": null,
   "metadata": {},
   "outputs": [],
   "source": [
    "# over all entries, sum entries in same position of each row\n",
    "np.sum(A), np.sum(A, axis=0)"
   ]
  },
  {
   "cell_type": "markdown",
   "metadata": {},
   "source": [
    "These efficient ufuncs use something called _broadcasting_. NumPy has made it so that basic operators work with NumPy arrays in a similar way &ndash; efficiently carrying out element-wise operations."
   ]
  },
  {
   "cell_type": "code",
   "execution_count": null,
   "metadata": {},
   "outputs": [],
   "source": [
    "# add 3 to every entry \n",
    "A + 3"
   ]
  },
  {
   "cell_type": "code",
   "execution_count": null,
   "metadata": {},
   "outputs": [],
   "source": [
    "# multiply every entry by -1\n",
    "-1*A"
   ]
  },
  {
   "cell_type": "code",
   "execution_count": null,
   "metadata": {},
   "outputs": [],
   "source": [
    "# square every entry\n",
    "A**2"
   ]
  },
  {
   "cell_type": "markdown",
   "metadata": {},
   "source": [
    "You can also easily multiply in entry-wise fashion. (Make sure the arrays have same shape.)"
   ]
  },
  {
   "cell_type": "code",
   "execution_count": null,
   "metadata": {},
   "outputs": [],
   "source": [
    "# multiply two arrays\n",
    "B = np.array([[-1,2,0],[1,1,-1]])\n",
    "A*B"
   ]
  },
  {
   "cell_type": "code",
   "execution_count": null,
   "metadata": {},
   "outputs": [],
   "source": [
    "A.shape, B.shape"
   ]
  },
  {
   "cell_type": "markdown",
   "metadata": {},
   "source": [
    "Write one line that computes the norm (length) of a vector `v`. There is a `linalg` function for this, but use ufuncs and broadcasting &ndash; that's what it does."
   ]
  },
  {
   "cell_type": "code",
   "execution_count": null,
   "metadata": {},
   "outputs": [],
   "source": []
  },
  {
   "cell_type": "markdown",
   "metadata": {},
   "source": [
    "Efficiency of broadcasting\n",
    "\n",
    "We'll check difference in writing our own for loop versus using a ufunc."
   ]
  },
  {
   "cell_type": "code",
   "execution_count": null,
   "metadata": {},
   "outputs": [],
   "source": [
    "id_matrix = np.identity(1000)\n",
    "exp_matrix = np.zeros((1000,1000))\n",
    "# one entry at a time in our own for loop\n",
    "start = time.time()\n",
    "for i in range(1000):\n",
    "  for j in range(1000):\n",
    "    exp_matrix[i,j] = np.exp(id_matrix[i,j])\n",
    "end = time.time()\n",
    "print(f\"Ran in {end - start} seconds.\")"
   ]
  },
  {
   "cell_type": "code",
   "execution_count": null,
   "metadata": {},
   "outputs": [],
   "source": [
    "id_matrix = np.identity(1000)\n",
    "exp_matrix = np.zeros((1000,1000))\n",
    "# now we use the ufunc np.exp\n",
    "start = time.time()\n",
    "exp_matrix = np.exp(id_matrix)\n",
    "end = time.time()\n",
    "print(f\"Ran in {end - start} seconds.\")"
   ]
  }
 ],
 "metadata": {
  "colab": {
   "authorship_tag": "ABX9TyPz40qvFU28vWRHbmBuKciJ",
   "collapsed_sections": [
    "AHjCaXah3a64"
   ],
   "provenance": []
  },
  "kernelspec": {
   "display_name": "Python [conda env:base] *",
   "language": "python",
   "name": "conda-base-py"
  },
  "language_info": {
   "codemirror_mode": {
    "name": "ipython",
    "version": 3
   },
   "file_extension": ".py",
   "mimetype": "text/x-python",
   "name": "python",
   "nbconvert_exporter": "python",
   "pygments_lexer": "ipython3",
   "version": "3.11.7"
  }
 },
 "nbformat": 4,
 "nbformat_minor": 4
}
