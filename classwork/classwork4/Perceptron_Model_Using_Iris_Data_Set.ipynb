{
 "cells": [
  {
   "cell_type": "markdown",
   "metadata": {},
   "source": [
    "## Classwork 4\n",
    "\n",
    "Perceptron algorithm on the Iris data set\n",
    "\n",
    "---"
   ]
  },
  {
   "cell_type": "markdown",
   "metadata": {},
   "source": [
    "1. Read the Iris data set into Python. It is available in `Iris.csv` in the DataSets folder. Labels are in the column named 'species'. They are 0, 1, or 2, depending on the species of iris flower.\n",
    "> The Iris data set can also be obtained by using the Python package Scikit-learn. You need this package installed first; once you have done that, you may simply put in the command: `sklearn.datasets.load_iris()`. This returns a dictionary object (technically, a \"bunch\"). From that \"bunch\", the keys 'data', and 'target', will give you the x vectors in $\\mathbb R^4$, and the y labels, respectively."
   ]
  },
  {
   "cell_type": "code",
   "execution_count": 469,
   "metadata": {},
   "outputs": [],
   "source": [
    "import numpy as np\n",
    "import pandas as pd"
   ]
  },
  {
   "cell_type": "code",
   "execution_count": 471,
   "metadata": {},
   "outputs": [
    {
     "data": {
      "text/html": [
       "<div>\n",
       "<style scoped>\n",
       "    .dataframe tbody tr th:only-of-type {\n",
       "        vertical-align: middle;\n",
       "    }\n",
       "\n",
       "    .dataframe tbody tr th {\n",
       "        vertical-align: top;\n",
       "    }\n",
       "\n",
       "    .dataframe thead th {\n",
       "        text-align: right;\n",
       "    }\n",
       "</style>\n",
       "<table border=\"1\" class=\"dataframe\">\n",
       "  <thead>\n",
       "    <tr style=\"text-align: right;\">\n",
       "      <th></th>\n",
       "      <th>Unnamed: 0</th>\n",
       "      <th>x0</th>\n",
       "      <th>x1</th>\n",
       "      <th>x2</th>\n",
       "      <th>x3</th>\n",
       "      <th>species</th>\n",
       "    </tr>\n",
       "  </thead>\n",
       "  <tbody>\n",
       "    <tr>\n",
       "      <th>0</th>\n",
       "      <td>0</td>\n",
       "      <td>5.1</td>\n",
       "      <td>3.5</td>\n",
       "      <td>1.4</td>\n",
       "      <td>0.2</td>\n",
       "      <td>0</td>\n",
       "    </tr>\n",
       "    <tr>\n",
       "      <th>1</th>\n",
       "      <td>1</td>\n",
       "      <td>4.9</td>\n",
       "      <td>3.0</td>\n",
       "      <td>1.4</td>\n",
       "      <td>0.2</td>\n",
       "      <td>0</td>\n",
       "    </tr>\n",
       "    <tr>\n",
       "      <th>2</th>\n",
       "      <td>2</td>\n",
       "      <td>4.7</td>\n",
       "      <td>3.2</td>\n",
       "      <td>1.3</td>\n",
       "      <td>0.2</td>\n",
       "      <td>0</td>\n",
       "    </tr>\n",
       "    <tr>\n",
       "      <th>3</th>\n",
       "      <td>3</td>\n",
       "      <td>4.6</td>\n",
       "      <td>3.1</td>\n",
       "      <td>1.5</td>\n",
       "      <td>0.2</td>\n",
       "      <td>0</td>\n",
       "    </tr>\n",
       "    <tr>\n",
       "      <th>4</th>\n",
       "      <td>4</td>\n",
       "      <td>5.0</td>\n",
       "      <td>3.6</td>\n",
       "      <td>1.4</td>\n",
       "      <td>0.2</td>\n",
       "      <td>0</td>\n",
       "    </tr>\n",
       "  </tbody>\n",
       "</table>\n",
       "</div>"
      ],
      "text/plain": [
       "   Unnamed: 0   x0   x1   x2   x3  species\n",
       "0           0  5.1  3.5  1.4  0.2        0\n",
       "1           1  4.9  3.0  1.4  0.2        0\n",
       "2           2  4.7  3.2  1.3  0.2        0\n",
       "3           3  4.6  3.1  1.5  0.2        0\n",
       "4           4  5.0  3.6  1.4  0.2        0"
      ]
     },
     "execution_count": 471,
     "metadata": {},
     "output_type": "execute_result"
    }
   ],
   "source": [
    "iris = pd.read_csv('iris.csv')\n",
    "iris.head()"
   ]
  },
  {
   "cell_type": "code",
   "execution_count": 473,
   "metadata": {},
   "outputs": [
    {
     "data": {
      "text/plain": [
       "(150, 4)"
      ]
     },
     "execution_count": 473,
     "metadata": {},
     "output_type": "execute_result"
    }
   ],
   "source": [
    "X_cols = iris[['x0', 'x1', 'x2', 'x3']].to_numpy()\n",
    "X_cols.shape"
   ]
  },
  {
   "cell_type": "markdown",
   "metadata": {},
   "source": [
    "2. Make new y-labels so that any data point from species 0 now has y-label 1 (these are the first 50 data points), and make the other y-labels equal to -1."
   ]
  },
  {
   "cell_type": "code",
   "execution_count": 476,
   "metadata": {},
   "outputs": [
    {
     "data": {
      "text/plain": [
       "0      1\n",
       "1      1\n",
       "2      1\n",
       "3      1\n",
       "4      1\n",
       "      ..\n",
       "145   -1\n",
       "146   -1\n",
       "147   -1\n",
       "148   -1\n",
       "149   -1\n",
       "Name: y_labels, Length: 150, dtype: int64"
      ]
     },
     "execution_count": 476,
     "metadata": {},
     "output_type": "execute_result"
    }
   ],
   "source": [
    "iris['y_labels'] = np.where(iris['species'] == 0, 1, -1)\n",
    "y = iris['y_labels']\n",
    "y"
   ]
  },
  {
   "cell_type": "markdown",
   "metadata": {},
   "source": [
    "3. Define a Perceptron algorithm (custom) function, that implements the algorithm described in the pseudo-code block in the Lecture 7 slides. Talk with others. Try to make your code as efficient as possible!"
   ]
  },
  {
   "cell_type": "code",
   "execution_count": 484,
   "metadata": {},
   "outputs": [],
   "source": [
    "def perceptron_algo(X, y, max_iter=20000): \n",
    "    X = np.hstack((X, np.ones((X.shape[0], 1))))\n",
    "    W = np.zeros(X.shape[1])\n",
    "    products = y*(X@W)\n",
    "    \n",
    "    curr_iter = 0\n",
    "    done = False\n",
    "\n",
    "    while all([not done, curr_iter < max_iter]):\n",
    "        try: \n",
    "            i = np.where(products <= 0)[0][0]\n",
    "            W += y[i]*X[i]\n",
    "            products = y*(X@W)\n",
    "            curr_iter += 1\n",
    "        except IndexError:\n",
    "            done = True\n",
    "            \n",
    "    return W[:-1], W[-1]"
   ]
  },
  {
   "cell_type": "markdown",
   "metadata": {},
   "source": [
    "4. Run your code on the Iris data and determine the coefficients $\\textbf{w}$ and $b$ for a hyperplane that separates the labeled data. "
   ]
  },
  {
   "cell_type": "code",
   "execution_count": 491,
   "metadata": {},
   "outputs": [],
   "source": [
    "W, b = perceptron_algo(X_cols, y)"
   ]
  },
  {
   "cell_type": "code",
   "execution_count": 495,
   "metadata": {},
   "outputs": [
    {
     "name": "stdout",
     "output_type": "stream",
     "text": [
      "w =  [ 1.3  4.1 -5.2 -2.2]\n",
      "b =  1.0\n"
     ]
    }
   ],
   "source": [
    "print(\"w = \", W)\n",
    "print(\"b = \", b)"
   ]
  },
  {
   "cell_type": "code",
   "execution_count": null,
   "metadata": {},
   "outputs": [],
   "source": []
  }
 ],
 "metadata": {
  "kernelspec": {
   "display_name": "Python [conda env:base] *",
   "language": "python",
   "name": "conda-base-py"
  },
  "language_info": {
   "codemirror_mode": {
    "name": "ipython",
    "version": 3
   },
   "file_extension": ".py",
   "mimetype": "text/x-python",
   "name": "python",
   "nbconvert_exporter": "python",
   "pygments_lexer": "ipython3",
   "version": "3.12.7"
  }
 },
 "nbformat": 4,
 "nbformat_minor": 4
}
