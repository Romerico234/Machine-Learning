{
 "cells": [
  {
   "cell_type": "markdown",
   "metadata": {},
   "source": [
    "## Classwork 3"
   ]
  },
  {
   "cell_type": "markdown",
   "metadata": {},
   "source": [
    "In this group work, we use the procedure from Lecture 6 slides to decide about the statistical significance of an independent variable. We use a bootstrapping procedure to estimate the reciprocal of a coefficient's $t$-statistic."
   ]
  },
  {
   "cell_type": "markdown",
   "metadata": {},
   "source": [
    "1. First, read the advertising data set into Python from the file 'Advertising.csv' on the class Github site. For ease of use, separate the columns into their own Numpy arrays. For example, when reading the CSV, if you assigned the DataFrame to be `advertising`, you can get the 'TV' column as an array by: \n",
    "\n",
    "    `tv = advertising['TV'].to_numpy()`"
   ]
  },
  {
   "cell_type": "code",
   "execution_count": 240,
   "metadata": {},
   "outputs": [],
   "source": [
    "import numpy as np\n",
    "import pandas as pd"
   ]
  },
  {
   "cell_type": "code",
   "execution_count": 242,
   "metadata": {},
   "outputs": [
    {
     "data": {
      "text/html": [
       "<div>\n",
       "<style scoped>\n",
       "    .dataframe tbody tr th:only-of-type {\n",
       "        vertical-align: middle;\n",
       "    }\n",
       "\n",
       "    .dataframe tbody tr th {\n",
       "        vertical-align: top;\n",
       "    }\n",
       "\n",
       "    .dataframe thead th {\n",
       "        text-align: right;\n",
       "    }\n",
       "</style>\n",
       "<table border=\"1\" class=\"dataframe\">\n",
       "  <thead>\n",
       "    <tr style=\"text-align: right;\">\n",
       "      <th></th>\n",
       "      <th>Unnamed: 0</th>\n",
       "      <th>TV</th>\n",
       "      <th>Radio</th>\n",
       "      <th>Newspaper</th>\n",
       "      <th>Sales</th>\n",
       "    </tr>\n",
       "  </thead>\n",
       "  <tbody>\n",
       "    <tr>\n",
       "      <th>0</th>\n",
       "      <td>1</td>\n",
       "      <td>230.1</td>\n",
       "      <td>37.8</td>\n",
       "      <td>69.2</td>\n",
       "      <td>22.1</td>\n",
       "    </tr>\n",
       "    <tr>\n",
       "      <th>1</th>\n",
       "      <td>2</td>\n",
       "      <td>44.5</td>\n",
       "      <td>39.3</td>\n",
       "      <td>45.1</td>\n",
       "      <td>10.4</td>\n",
       "    </tr>\n",
       "    <tr>\n",
       "      <th>2</th>\n",
       "      <td>3</td>\n",
       "      <td>17.2</td>\n",
       "      <td>45.9</td>\n",
       "      <td>69.3</td>\n",
       "      <td>9.3</td>\n",
       "    </tr>\n",
       "    <tr>\n",
       "      <th>3</th>\n",
       "      <td>4</td>\n",
       "      <td>151.5</td>\n",
       "      <td>41.3</td>\n",
       "      <td>58.5</td>\n",
       "      <td>18.5</td>\n",
       "    </tr>\n",
       "    <tr>\n",
       "      <th>4</th>\n",
       "      <td>5</td>\n",
       "      <td>180.8</td>\n",
       "      <td>10.8</td>\n",
       "      <td>58.4</td>\n",
       "      <td>12.9</td>\n",
       "    </tr>\n",
       "  </tbody>\n",
       "</table>\n",
       "</div>"
      ],
      "text/plain": [
       "   Unnamed: 0     TV  Radio  Newspaper  Sales\n",
       "0           1  230.1   37.8       69.2   22.1\n",
       "1           2   44.5   39.3       45.1   10.4\n",
       "2           3   17.2   45.9       69.3    9.3\n",
       "3           4  151.5   41.3       58.5   18.5\n",
       "4           5  180.8   10.8       58.4   12.9"
      ]
     },
     "execution_count": 242,
     "metadata": {},
     "output_type": "execute_result"
    }
   ],
   "source": [
    "advertising = pd.read_csv(\"Advertising.csv\")\n",
    "advertising.head()"
   ]
  },
  {
   "cell_type": "code",
   "execution_count": 244,
   "metadata": {},
   "outputs": [],
   "source": [
    "tv = advertising['TV'].to_numpy()\n",
    "radio = advertising['Radio'].to_numpy()\n",
    "newspaper = advertising['Newspaper'].to_numpy()\n",
    "sales = advertising['Sales'].to_numpy()"
   ]
  },
  {
   "cell_type": "markdown",
   "metadata": {},
   "source": [
    "Below, we define a function that will perform multiple linear regression for us. Our assumption is that independent variable values are each in an array, that these arrays are themselves in a list or array.  Also, say that we have a separate array for our response variable ($y$)."
   ]
  },
  {
   "cell_type": "code",
   "execution_count": 247,
   "metadata": {},
   "outputs": [],
   "source": [
    "# xarrays is a list or array, of arrays that each contain values of an indpt variable\n",
    "# y is an array of the response variable values\n",
    "def lin_reg(xarrays, y):\n",
    "    n = len(xarrays[0])\n",
    "    A = np.array(list(xarrays) + [np.ones(n)]).T\n",
    "    AtA = A.T@A\n",
    "    Aty = A.T@y\n",
    "    return np.linalg.inv(AtA)@Aty"
   ]
  },
  {
   "cell_type": "markdown",
   "metadata": {},
   "source": [
    "2. Use the `lin_reg` function above to compute the multiple linear regression coefficients for the advertising data, using the TV, Radio, and Newspaper data as independent variables and using Sales as the response variable. Assign the array of coefficients to `p`."
   ]
  },
  {
   "cell_type": "code",
   "execution_count": 250,
   "metadata": {},
   "outputs": [
    {
     "name": "stdout",
     "output_type": "stream",
     "text": [
      "Data Coefficients (TV, Radio, Newspaper, Intercept): [ 4.57646455e-02  1.88530017e-01 -1.03749304e-03  2.93888937e+00]\n"
     ]
    }
   ],
   "source": [
    "indpt_variables = [tv, radio, newspaper]\n",
    "p = lin_reg(indpt_variables, sales)\n",
    "print(f\"Data Coefficients (TV, Radio, Newspaper, Intercept): {p}\")"
   ]
  },
  {
   "cell_type": "markdown",
   "metadata": {},
   "source": [
    "There are 200 points (observations) in the Advertising data set. To subsample from an array with $n$ points, you need to select a random subset of `[0,1,...,n-1]` (we'll use a Numpy version of `range(n)` which we get with: `np.arange(n)`).\n",
    "\n",
    "To select a random subset of `[0,1,...,n-1]` of size $m$, you can do either of the following:\n",
    "> (a) Use the command `np.random.choice(n, size=m, replace=False)`\n",
    "\n",
    "> (b) Set `my_indices = np.arange(n)` and then randomly _shuffle_ the order of `my_indices` by calling `np.random.shuffle(my_indices)`. (It changes it in place.) Then, slice the first $m$ entries in the shuffled list: `my_indices[:m]`.\n",
    "*  Here is the documentation for the [Numpy shuffle command](https://numpy.org/doc/stable/reference/random/generated/numpy.random.shuffle.html). Alternatively, you can use the Generator object `np.random.default_rng()`: [documentation here](https://numpy.org/doc/stable/reference/random/generated/numpy.random.Generator.shuffle.html#numpy.random.Generator.shuffle)."
   ]
  },
  {
   "cell_type": "code",
   "execution_count": 253,
   "metadata": {},
   "outputs": [],
   "source": [
    "# Try out shuffling an array of indices and then taking the first m = 100 of them.\n",
    "n = 200\n",
    "m = 100"
   ]
  },
  {
   "cell_type": "code",
   "execution_count": 255,
   "metadata": {},
   "outputs": [
    {
     "name": "stdout",
     "output_type": "stream",
     "text": [
      "[131 162  31 109  99   1 189  14  83 179 130 133  53 166 126 151 118 182\n",
      " 142 121 185 144   4  77 136  69 128  75  66 172 138  48  65 145 114 143\n",
      " 191 104 168 161  38  21 101  43 156 194  42  55  17 190 107 180 110 115\n",
      " 132  59   7   5 176 139  63 120  56  78  44  49 158  45  72  37  52   2\n",
      "  39 192 111 170 103 152  47 186  20  90 157  13  64  73  74 177  96  92\n",
      "  51  97   0 113 155  41 127 150 175 147]\n"
     ]
    }
   ],
   "source": [
    "# 1st Approach: Using np.random.choice\n",
    "observations_a = np.random.choice(n, size=m, replace=False)\n",
    "print(observations_a)"
   ]
  },
  {
   "cell_type": "code",
   "execution_count": 257,
   "metadata": {},
   "outputs": [
    {
     "name": "stdout",
     "output_type": "stream",
     "text": [
      "[ 31 124  37  22  11 169  29  40 166 134  91  19  76 189 188 193  68 174\n",
      " 176  75 198  50 182 162 104  61  51  30 102 115 137 163  79  83 151  81\n",
      "   3  20  56 119 144 128 108 160  89  14  97 135 191  46 111 172   4  28\n",
      " 159 105 164 157  24  95 121  86  25  16  15  77  80  74 145  72  67 180\n",
      "  96 130 116  41 136  93  59 109 129  87 148 120 195  44 173 192 199  63\n",
      " 196  54  71 140  64   9 118  70 110  52]\n"
     ]
    }
   ],
   "source": [
    "# 2nd Approach: Shuffling an array of indices\n",
    "my_indices = np.arange(n)\n",
    "np.random.shuffle(my_indices)\n",
    "observations_b = my_indices[:m]\n",
    "print(observations_b)"
   ]
  },
  {
   "cell_type": "markdown",
   "metadata": {},
   "source": [
    "3. Either by using the shuffling procedure above, or using `np.random.choice`, get 120 random indices when `n=200`. Now, use this array to get a size 120 random subsample from the Advertising data and compute the linear regression coefficients for that subsample.\n",
    "\n",
    "&nbsp;&nbsp;&nbsp;&nbsp;&nbsp;&nbsp;&nbsp;&nbsp; Once you have done that, put the procedure into a loop that will iterate the process 100 times. On each iteration, save the regression coefficients found in a variable `subsample_ps`. (At the end, this should contain 100 arrays, each having 4 coefficients.)"
   ]
  },
  {
   "cell_type": "code",
   "execution_count": 260,
   "metadata": {},
   "outputs": [],
   "source": [
    "n = 200\n",
    "m = 120\n",
    "num_iters = 100\n",
    "subsample_ps = []"
   ]
  },
  {
   "cell_type": "code",
   "execution_count": 262,
   "metadata": {},
   "outputs": [],
   "source": [
    "for _ in range(num_iters):\n",
    "    # Picks 120 random indices out of 200\n",
    "    my_indices = np.random.choice(n, size=m, replace=False)\n",
    "    \n",
    "    # Builds the subsampled-x and subsampled-y\n",
    "    sub_x1 = tv[my_indices]         \n",
    "    sub_x2 = radio[my_indices]     \n",
    "    sub_x3 = newspaper[my_indices]  \n",
    "    sub_y = sales[my_indices]     \n",
    "    \n",
    "    # Computes the linear regression coefficients on this subsample\n",
    "    sub_p = lin_reg([sub_x1, sub_x2, sub_x3], sub_y)\n",
    "    \n",
    "    subsample_ps.append(sub_p)"
   ]
  },
  {
   "cell_type": "code",
   "execution_count": 264,
   "metadata": {},
   "outputs": [
    {
     "data": {
      "text/plain": [
       "(100, 4)"
      ]
     },
     "execution_count": 264,
     "metadata": {},
     "output_type": "execute_result"
    }
   ],
   "source": [
    "subsample_ps = np.array(subsample_ps)\n",
    "subsample_ps.shape"
   ]
  },
  {
   "cell_type": "markdown",
   "metadata": {},
   "source": [
    "4. In each of the arrays in `subsample_ps`, there is one coefficient for TV, one for Radio, one for Newspaper, and one constant coefficient. Compute the [standard deviation](https://numpy.org/doc/stable/reference/generated/numpy.std.html) of the subsample regression coefficients for the TV variable and then divide it by the TV coefficient from the whole data set, `p[0]` (from number 2 above). Then do the analogous thing for Radio and for Newspaper. \n",
    "\n",
    "* Which of the three variables are significant?"
   ]
  },
  {
   "cell_type": "code",
   "execution_count": 267,
   "metadata": {},
   "outputs": [],
   "source": [
    "# ddof=1 for sample std, source: https://stackoverflow.com/questions/34050491/standard-deviation-in-numpy\n",
    "tv_std = np.std(subsample_ps[:, 0], ddof=1)        \n",
    "radio_std = np.std(subsample_ps[:, 1], ddof=1)\n",
    "newspaper_std = np.std(subsample_ps[:, 2], ddof=1)"
   ]
  },
  {
   "cell_type": "code",
   "execution_count": 269,
   "metadata": {},
   "outputs": [],
   "source": [
    "tv_ratio = tv_std / p[0]\n",
    "radio_ratio = radio_std / p[1]\n",
    "newspaper_ratio = newspaper_std / p[2]"
   ]
  },
  {
   "cell_type": "code",
   "execution_count": 271,
   "metadata": {},
   "outputs": [
    {
     "name": "stdout",
     "output_type": "stream",
     "text": [
      "TV ratio (std / coeff)        = 0.03621711358426427\n",
      "Radio ratio (std / coeff)     = 0.04776983028761855\n",
      "Newspaper ratio (std / coeff) = -4.707846992283929\n"
     ]
    }
   ],
   "source": [
    "print(\"TV ratio (std / coeff)        =\", tv_ratio)\n",
    "print(\"Radio ratio (std / coeff)     =\", radio_ratio)\n",
    "print(\"Newspaper ratio (std / coeff) =\", newspaper_ratio)"
   ]
  },
  {
   "cell_type": "markdown",
   "metadata": {},
   "source": [
    "**TV and Radio are significant while Newspaper is not significant. This means Newspaper is highly inconsistent and contributes much less to predicting Sales.**"
   ]
  },
  {
   "cell_type": "code",
   "execution_count": null,
   "metadata": {},
   "outputs": [],
   "source": []
  }
 ],
 "metadata": {
  "kernelspec": {
   "display_name": "Python [conda env:base] *",
   "language": "python",
   "name": "conda-base-py"
  },
  "language_info": {
   "codemirror_mode": {
    "name": "ipython",
    "version": 3
   },
   "file_extension": ".py",
   "mimetype": "text/x-python",
   "name": "python",
   "nbconvert_exporter": "python",
   "pygments_lexer": "ipython3",
   "version": "3.11.7"
  }
 },
 "nbformat": 4,
 "nbformat_minor": 4
}
