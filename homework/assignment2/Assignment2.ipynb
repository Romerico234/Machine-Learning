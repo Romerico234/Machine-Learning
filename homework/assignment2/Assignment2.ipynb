{
 "cells": [
  {
   "cell_type": "markdown",
   "metadata": {},
   "source": [
    "## Homework 2"
   ]
  },
  {
   "cell_type": "markdown",
   "metadata": {},
   "source": [
    "1. In the DataSets folder, read the data set 'College.csv' into Python. Perform simple linear regression, with `perc_alumni` as the independent variable and `S_F_ratio` as the response ($y$) variable. Report on the slope and intercept of the LSR line you find. What is the confidence interval for each? "
   ]
  },
  {
   "cell_type": "code",
   "execution_count": 349,
   "metadata": {},
   "outputs": [],
   "source": [
    "import numpy as np\n",
    "import pandas as pd"
   ]
  },
  {
   "cell_type": "code",
   "execution_count": 351,
   "metadata": {},
   "outputs": [
    {
     "data": {
      "text/html": [
       "<div>\n",
       "<style scoped>\n",
       "    .dataframe tbody tr th:only-of-type {\n",
       "        vertical-align: middle;\n",
       "    }\n",
       "\n",
       "    .dataframe tbody tr th {\n",
       "        vertical-align: top;\n",
       "    }\n",
       "\n",
       "    .dataframe thead th {\n",
       "        text-align: right;\n",
       "    }\n",
       "</style>\n",
       "<table border=\"1\" class=\"dataframe\">\n",
       "  <thead>\n",
       "    <tr style=\"text-align: right;\">\n",
       "      <th></th>\n",
       "      <th>School</th>\n",
       "      <th>Private</th>\n",
       "      <th>Apps</th>\n",
       "      <th>Accept</th>\n",
       "      <th>Enroll</th>\n",
       "      <th>Top10perc</th>\n",
       "      <th>Top25perc</th>\n",
       "      <th>F_Undergrad</th>\n",
       "      <th>P_Undergrad</th>\n",
       "      <th>Outstate</th>\n",
       "      <th>Room_Board</th>\n",
       "      <th>Books</th>\n",
       "      <th>Personal</th>\n",
       "      <th>PhD</th>\n",
       "      <th>Terminal</th>\n",
       "      <th>S_F_Ratio</th>\n",
       "      <th>perc_alumni</th>\n",
       "      <th>Expend</th>\n",
       "      <th>Grad_Rate</th>\n",
       "    </tr>\n",
       "  </thead>\n",
       "  <tbody>\n",
       "    <tr>\n",
       "      <th>0</th>\n",
       "      <td>Abilene Christian University</td>\n",
       "      <td>Yes</td>\n",
       "      <td>1660</td>\n",
       "      <td>1232</td>\n",
       "      <td>721</td>\n",
       "      <td>23</td>\n",
       "      <td>52</td>\n",
       "      <td>2885</td>\n",
       "      <td>537</td>\n",
       "      <td>7440</td>\n",
       "      <td>3300</td>\n",
       "      <td>450</td>\n",
       "      <td>2200</td>\n",
       "      <td>70</td>\n",
       "      <td>78</td>\n",
       "      <td>18.1</td>\n",
       "      <td>12</td>\n",
       "      <td>7041</td>\n",
       "      <td>60</td>\n",
       "    </tr>\n",
       "    <tr>\n",
       "      <th>1</th>\n",
       "      <td>Adelphi University</td>\n",
       "      <td>Yes</td>\n",
       "      <td>2186</td>\n",
       "      <td>1924</td>\n",
       "      <td>512</td>\n",
       "      <td>16</td>\n",
       "      <td>29</td>\n",
       "      <td>2683</td>\n",
       "      <td>1227</td>\n",
       "      <td>12280</td>\n",
       "      <td>6450</td>\n",
       "      <td>750</td>\n",
       "      <td>1500</td>\n",
       "      <td>29</td>\n",
       "      <td>30</td>\n",
       "      <td>12.2</td>\n",
       "      <td>16</td>\n",
       "      <td>10527</td>\n",
       "      <td>56</td>\n",
       "    </tr>\n",
       "    <tr>\n",
       "      <th>2</th>\n",
       "      <td>Adrian College</td>\n",
       "      <td>Yes</td>\n",
       "      <td>1428</td>\n",
       "      <td>1097</td>\n",
       "      <td>336</td>\n",
       "      <td>22</td>\n",
       "      <td>50</td>\n",
       "      <td>1036</td>\n",
       "      <td>99</td>\n",
       "      <td>11250</td>\n",
       "      <td>3750</td>\n",
       "      <td>400</td>\n",
       "      <td>1165</td>\n",
       "      <td>53</td>\n",
       "      <td>66</td>\n",
       "      <td>12.9</td>\n",
       "      <td>30</td>\n",
       "      <td>8735</td>\n",
       "      <td>54</td>\n",
       "    </tr>\n",
       "    <tr>\n",
       "      <th>3</th>\n",
       "      <td>Agnes Scott College</td>\n",
       "      <td>Yes</td>\n",
       "      <td>417</td>\n",
       "      <td>349</td>\n",
       "      <td>137</td>\n",
       "      <td>60</td>\n",
       "      <td>89</td>\n",
       "      <td>510</td>\n",
       "      <td>63</td>\n",
       "      <td>12960</td>\n",
       "      <td>5450</td>\n",
       "      <td>450</td>\n",
       "      <td>875</td>\n",
       "      <td>92</td>\n",
       "      <td>97</td>\n",
       "      <td>7.7</td>\n",
       "      <td>37</td>\n",
       "      <td>19016</td>\n",
       "      <td>59</td>\n",
       "    </tr>\n",
       "    <tr>\n",
       "      <th>4</th>\n",
       "      <td>Alaska Pacific University</td>\n",
       "      <td>Yes</td>\n",
       "      <td>193</td>\n",
       "      <td>146</td>\n",
       "      <td>55</td>\n",
       "      <td>16</td>\n",
       "      <td>44</td>\n",
       "      <td>249</td>\n",
       "      <td>869</td>\n",
       "      <td>7560</td>\n",
       "      <td>4120</td>\n",
       "      <td>800</td>\n",
       "      <td>1500</td>\n",
       "      <td>76</td>\n",
       "      <td>72</td>\n",
       "      <td>11.9</td>\n",
       "      <td>2</td>\n",
       "      <td>10922</td>\n",
       "      <td>15</td>\n",
       "    </tr>\n",
       "  </tbody>\n",
       "</table>\n",
       "</div>"
      ],
      "text/plain": [
       "                         School Private  Apps  Accept  Enroll  Top10perc  \\\n",
       "0  Abilene Christian University     Yes  1660    1232     721         23   \n",
       "1            Adelphi University     Yes  2186    1924     512         16   \n",
       "2                Adrian College     Yes  1428    1097     336         22   \n",
       "3           Agnes Scott College     Yes   417     349     137         60   \n",
       "4     Alaska Pacific University     Yes   193     146      55         16   \n",
       "\n",
       "   Top25perc  F_Undergrad  P_Undergrad  Outstate  Room_Board  Books  Personal  \\\n",
       "0         52         2885          537      7440        3300    450      2200   \n",
       "1         29         2683         1227     12280        6450    750      1500   \n",
       "2         50         1036           99     11250        3750    400      1165   \n",
       "3         89          510           63     12960        5450    450       875   \n",
       "4         44          249          869      7560        4120    800      1500   \n",
       "\n",
       "   PhD  Terminal  S_F_Ratio  perc_alumni  Expend  Grad_Rate  \n",
       "0   70        78       18.1           12    7041         60  \n",
       "1   29        30       12.2           16   10527         56  \n",
       "2   53        66       12.9           30    8735         54  \n",
       "3   92        97        7.7           37   19016         59  \n",
       "4   76        72       11.9            2   10922         15  "
      ]
     },
     "execution_count": 351,
     "metadata": {},
     "output_type": "execute_result"
    }
   ],
   "source": [
    "college_df = pd.read_csv(\"College.csv\")\n",
    "college_df.head()"
   ]
  },
  {
   "cell_type": "code",
   "execution_count": 353,
   "metadata": {},
   "outputs": [],
   "source": [
    "x = college_df[\"perc_alumni\"].to_numpy()\n",
    "y = college_df[\"S_F_Ratio\"].to_numpy()"
   ]
  },
  {
   "cell_type": "code",
   "execution_count": 355,
   "metadata": {},
   "outputs": [],
   "source": [
    "lsr = np.polyfit(x, y, 1)\n",
    "m_hat = lsr[0]\n",
    "b_hat = lsr[1]"
   ]
  },
  {
   "cell_type": "code",
   "execution_count": 357,
   "metadata": {},
   "outputs": [
    {
     "name": "stdout",
     "output_type": "stream",
     "text": [
      "The slope of the LSR is m_hat = -0.1287088334943756 and the intercept of the LSR is b_hat = 17.017043121637855.\n"
     ]
    }
   ],
   "source": [
    "print(f\"The slope of the LSR is m_hat = {m} and the intercept of the LSR is b_hat = {b}.\")"
   ]
  },
  {
   "cell_type": "code",
   "execution_count": 359,
   "metadata": {},
   "outputs": [],
   "source": [
    "# Numer of Data Points\n",
    "n = len(x)\n",
    "\n",
    "# Residual Errors\n",
    "residuals = y - (lsr[0]*x + lsr[1])\n",
    "\n",
    "# SSR = nMSE\n",
    "SSR = np.sum(residuals**2)\n",
    "\n",
    "# RSE\n",
    "sigma_hat = np.sqrt( SSR / (n - 2) )"
   ]
  },
  {
   "cell_type": "markdown",
   "metadata": {},
   "source": [
    "**Standard Error of $\\hat{m} $**:\n",
    "\n",
    "$$\n",
    "\\text{Var}(\\hat{m}) = \\sigma^2 \\frac{1}{\\sum_{i=1}^{n} (x_i - \\bar{x})^2},\n",
    "$$\n",
    "\n",
    "so\n",
    "\n",
    "$$\n",
    "SE(\\hat{m}) = \\sqrt{\\text{Var}(\\hat{m})} = \\sqrt{\\frac{\\sigma^2}{\\sum_{i=1}^{n} (x_i - \\bar{x})^2}}.\n",
    "$$"
   ]
  },
  {
   "cell_type": "markdown",
   "metadata": {},
   "source": [
    "**Standard Error of the Intercept $\\hat{b}$**:\n",
    "$$\n",
    "\\text{Var}(\\hat{b}) = \\sigma^2 \\left[ \\frac{1}{n} + \\frac{\\bar{x}^2}{\\sum_{i=1}^{n} (x_i - \\bar{x})^2} \\right],\n",
    "$$\n",
    "\n",
    "so\n",
    "\n",
    "$$\n",
    "SE(\\hat{b}) = \\sqrt{\\text{Var}(\\hat{b})} = \\hat{\\sigma} \\sqrt{\\frac{1}{n} + \\frac{\\bar{x}^2}{\\sum_{i=1}^{n} (x_i - \\bar{x})^2}}.\n",
    "$$"
   ]
  },
  {
   "cell_type": "code",
   "execution_count": 363,
   "metadata": {},
   "outputs": [],
   "source": [
    "# Mean of all x-values\n",
    "xbar = np.mean(x)\n",
    "\n",
    "# The denominator part\n",
    "xx = np.sum((x - xbar)**2)"
   ]
  },
  {
   "cell_type": "code",
   "execution_count": 365,
   "metadata": {},
   "outputs": [
    {
     "name": "stdout",
     "output_type": "stream",
     "text": [
      "0.010501699789972306\n"
     ]
    }
   ],
   "source": [
    "# Standard Error of m_hat\n",
    "SE_slope = sigma_hat * np.sqrt(1.0 / xx)\n",
    "print(SE_slope)"
   ]
  },
  {
   "cell_type": "code",
   "execution_count": 367,
   "metadata": {},
   "outputs": [
    {
     "name": "stdout",
     "output_type": "stream",
     "text": [
      "0.27196026713229987\n"
     ]
    }
   ],
   "source": [
    "# Standard Error of b_hat\n",
    "SE_intercept = sigma_hat * np.sqrt(1.0/n + (xbar**2)/xx)\n",
    "print(SE_intercept)"
   ]
  },
  {
   "cell_type": "markdown",
   "metadata": {},
   "source": [
    "**95% Confidence Interval with $\\pm2SE$**:\n",
    "$$\n",
    "\\hat{m} \\pm 2 \\text{SE}(\\hat{m}), \\quad\n",
    "\\hat{b} \\pm 2 \\text{SE}(\\hat{b}),\n",
    "$$"
   ]
  },
  {
   "cell_type": "code",
   "execution_count": 370,
   "metadata": {},
   "outputs": [
    {
     "name": "stdout",
     "output_type": "stream",
     "text": [
      "Confidence interval for m_hat: (-0.1497122330743202, -0.10770543391443098)\n",
      "Confidence interval for b_hat: (16.473122587373254, 17.560963655902455)\n"
     ]
    }
   ],
   "source": [
    "# Confidence Intervals\n",
    "m_hat_confidence_interval = (m_hat - 2 * SE_slope, m_hat + 2 * SE_slope)\n",
    "b_hat_confidence_interval = (b_hat - 2 * SE_intercept, b_hat + 2 * SE_intercept)\n",
    "\n",
    "\n",
    "print(f\"Confidence interval for m_hat: {m_hat_confidence_interval}\")\n",
    "print(f\"Confidence interval for b_hat: {b_hat_confidence_interval}\")"
   ]
  },
  {
   "cell_type": "markdown",
   "metadata": {},
   "source": [
    "**References:**\n",
    "- Used AI to help me properly write and format the mathematical formulas and equations."
   ]
  },
  {
   "cell_type": "markdown",
   "metadata": {},
   "source": [
    "---"
   ]
  },
  {
   "cell_type": "markdown",
   "metadata": {},
   "source": [
    "2. Write out an explanation for why $R^2$ is scale invariant. In other words, for an arbitrary constant $c$, if you take all $y$-coordinates in the data $(x_1,y_1), (x_2,y_2), \\ldots, (x_n,y_n)$ and make the change $y_i \\mapsto cy_i$ then show how $R^2$ remains the same."
   ]
  },
  {
   "cell_type": "markdown",
   "metadata": {
    "jp-MarkdownHeadingCollapsed": true
   },
   "source": [
    "**Claim:** If we multiply all $ y $-coordinates by a constant $ c $, i.e. $ y_i \\mapsto c y_i $, then\n",
    "\n",
    "$$ R^2 = 1 - \\frac{\\sum_{i=1}^{n} (y_i - \\hat{y}_i)^2}{\\sum_{i=1}^{n} (y_i - \\bar{y})^2} $$\n",
    "\n",
    "remains unchanged.\n",
    "\n",
    "**Proof:**\n",
    "\n",
    "Let:\n",
    "\n",
    "The linear regression model be $ \\hat{y} = mx + b $, where:\n",
    "- Total Sum of Squares (TSS): $$ TSS = \\sum_{i=1}^{n} (y_i - \\bar{y})^2 $$\n",
    "\n",
    "- Sum of Squared Residuals (SSR): $$ SSR = \\sum_{i=1}^{n} (y_i - \\hat{y}_i)^2 $$\n",
    "\n",
    "- Mean Squared Error (MSE): $$ MSE = \\frac{SSR}{n} $$\n",
    "\n",
    "- Residual Standard Error (RSE): $$ RSE = \\sqrt{\\frac{SSR}{n - 2}} $$ \n",
    "\n",
    "- Proportion of Variance: $$ R^2 = 1 - \\frac{SSR}{TSS} $$\n",
    "\n",
    "Now suppose we replace $ y $ by $ c y $. The least-squares fit to $ c y $ becomes $ c \\hat{y} $. Intuitively, if the model is $ \\hat{y} = mx + b $, then fitting to $ c y $ yields:\n",
    "\n",
    "$$ \\hat{y}_{(c)} = c (m x + b) \\Rightarrow c \\hat{y} = (c m) x + (c b). $$\n",
    "\n",
    "- New Mean: $$ \\bar{y}_{(c)} = c \\bar{y}. $$\n",
    "\n",
    "- New TSS: $$ TSS_{(c)} = \\sum_{i=1}^{n} (c y_i - c \\bar{y})^2 = c^2 \\sum_{i=1}^{n} (y_i - \\bar{y})^2 = c^2 TSS. $$\n",
    "\n",
    "- New SSR: $$ SSR_{(c)} = \\sum_{i=1}^{n} (c y_i - c \\hat{y}_i)^2 = c^2 \\sum_{i=1}^{n} (y_i - \\hat{y}_i)^2 = c^2 SSR. $$\n",
    "\n",
    "- New MSE: $$ MSE_{(c)} = \\frac{SSR_{(c)}}{n} = \\frac{c^2 SSR}{n} = c^2 MSE. $$\n",
    "\n",
    "- New RSE: $$ RSE_{(c)} = \\sqrt{\\frac{SSR_{(c)}}{n - k}} = \\sqrt{\\frac{c^2 SSR}{n - k}} = c RSE. $$\n",
    "\n",
    "**Effect on $ R^2 $:**\n",
    "$$ R^2_{(c)} = 1 - \\frac{SSR_{(c)}}{TSS_{(c)}} = 1 - \\frac{c^2 SSR}{c^2 TSS} = 1 - \\frac{SSR}{TSS} = R^2. $$\n",
    "\n",
    "- The regression coefficients $ m $ and $ b $ are scaled by $ c $.\n",
    "- The residuals, SSR and TSS, are scaled by $ c^2 $.\n",
    "- MSE is scaled by $ c^2 $.\n",
    "- RSE is scaled by $ c $.\n",
    "- $ R^2 $ remains unchanged showing that it is scale-invariant under multiplication by a constant.\n",
    "\n",
    "**References:**\n",
    "- Took inspiration from this thread [Coefficient of Determination Invariance on StackExchange](https://stats.stackexchange.com/questions/348758/coefficient-of-determination-invariant-to-centering-and-rescaling-of-variables)\n",
    "- Used AI to help me properly write and format the mathematical formulas and equations.\n"
   ]
  },
  {
   "cell_type": "markdown",
   "metadata": {},
   "source": [
    "---"
   ]
  },
  {
   "cell_type": "markdown",
   "metadata": {},
   "source": [
    "3. Check that $(\\bar{x}, \\bar{y})$ necessarily lies on the LSR line. (_Do this without using calculus, which means you should not use that_ $\\sum_{i=1}^n(y_i - \\hat{y}_i) = 0$.)\n",
    "Hint: Using ${\\bf x}$ (resp. ${\\bf y}$) for the vectors of $x$-coords (resp. $y$-coords), check that \n",
    "$$A^TA = \\begin{bmatrix}{\\bf x}\\cdot{\\bf x} & n\\bar{x} \\\\ n\\bar{x} & n\\end{bmatrix}; \\qquad A^T{\\bf y} = \\begin{bmatrix}{\\bf x}\\cdot{\\bf y} \\\\ n\\bar{y}\\end{bmatrix} $$ "
   ]
  },
  {
   "cell_type": "markdown",
   "metadata": {},
   "source": [
    "**Claim:** If you plug in $x = \\bar{x}$ to the fitted model $\\hat{y} = b + m x$, the claim is that $\\hat{y}(\\bar{x}) = \\bar{y}$.\n",
    "\n",
    "**Proof:** \n",
    "\n",
    "Consider the matrix $A$ for simple linear regression of $y$ on $x$:\n",
    "\n",
    "$$\n",
    "A = \\begin{bmatrix} x_1 & 1 \\\\ x_2 & 1 \\\\ \\vdots & \\vdots \\\\ x_n & 1 \\end{bmatrix}, \\quad \\mathbf{y} = \\begin{bmatrix} y_1 \\\\ y_2 \\\\ \\vdots \\\\ y_n \\end{bmatrix}.\n",
    "$$\n",
    "\n",
    "The LSR coefficients $p = (m, b)$ satisfy the normal equations:\n",
    "\n",
    "$$\n",
    "(A^T A) p = A^T \\mathbf{y}.\n",
    "$$\n",
    "\n",
    "- $A^T A$ is a $2 \\times 2$ matrix:\n",
    "\n",
    "  $$\n",
    "  A^T A = \\begin{bmatrix} \\sum x_i^2 & \\sum x_i \\\\ \\sum x_i & n \\end{bmatrix}.\n",
    "  $$\n",
    "\n",
    "  If you expand $\\sum x_i = n \\bar{x}$ and $\\sum x_i^2 = \\mathbf{x} \\cdot \\mathbf{x}$, then\n",
    "\n",
    "  $$\n",
    "  \\begin{bmatrix} \\mathbf{x} \\cdot \\mathbf{x} & n \\bar{x} \\\\ n \\bar{x} & n \\end{bmatrix}.\n",
    "  $$\n",
    "\n",
    "- $A^T \\mathbf{y}$ is a $2 \\times 1$ vector:\n",
    "\n",
    "  $$\n",
    "  A^T \\mathbf{y} = \\begin{bmatrix} \\sum x_i y_i \\\\ \\sum y_i \\end{bmatrix} = \\begin{bmatrix} \\mathbf{x} \\cdot \\mathbf{y} \\\\ n \\bar{y} \\end{bmatrix}.\n",
    "  $$\n",
    "\n",
    "Putting it together, the normal equations read:\n",
    "\n",
    "$$\n",
    "(A^T A) p = A^T y\n",
    "\\Rightarrow\n",
    "\\begin{bmatrix} \n",
    "\\sum x_i^2 & \\sum x_i \\\\  \n",
    "\\sum x_i & n \n",
    "\\end{bmatrix} \n",
    "\\begin{bmatrix} \n",
    "m \\\\ \n",
    "b \n",
    "\\end{bmatrix} \n",
    "=\n",
    "\\begin{bmatrix} \n",
    "\\sum x_i y_i \\\\ \n",
    "\\sum y_i \n",
    "\\end{bmatrix}.\n",
    "$$\n",
    "\n",
    "Multiplying the matrices results in:\n",
    "\n",
    "$$\n",
    "\\begin{bmatrix} \n",
    "\\left( \\sum x_i^2 \\right) m + \\left( \\sum x_i \\right) b \\\\  \n",
    "\\left( \\sum x_i \\right) m + n b\n",
    "\\end{bmatrix} \n",
    "=\n",
    "\\begin{bmatrix} \n",
    "\\sum x_i y_i \\\\  \n",
    "\\sum y_i\n",
    "\\end{bmatrix}.\n",
    "$$\n",
    "\n",
    "This gives the two scalar equations:\n",
    "\n",
    "1. **First equation:**\n",
    "   $$\n",
    "   \\left( \\sum x_i^2 \\right) m + \\left( \\sum x_i \\right) b = \\sum x_i y_i.\n",
    "   $$\n",
    "\n",
    "2. **Second equation:**\n",
    "   $$\n",
    "   \\left( \\sum x_i \\right) m + n b = \\sum y_i.\n",
    "   $$\n",
    "\n",
    "Since we know that $ \\sum x_i = n \\bar{x} $ and $ \\sum y_i = n \\bar{y} $, we substitute these into the second equation:\n",
    "\n",
    "$$\n",
    "n \\bar{x} m + n b = n \\bar{y}.\n",
    "$$\n",
    "\n",
    "Dividing everything by $n$:\n",
    "\n",
    "$$\n",
    "\\bar{x} m + b = \\bar{y}.\n",
    "$$\n",
    "\n",
    "Thus, the point $ (\\bar{x}, \\bar{y}) $ lies on the LSR line.\n",
    "\n",
    "**References:**\n",
    "- Used AI to help me properly write and format the mathematical formulas, matrices/vectors, and equations."
   ]
  },
  {
   "cell_type": "markdown",
   "metadata": {},
   "source": [
    "---"
   ]
  },
  {
   "cell_type": "markdown",
   "metadata": {},
   "source": [
    "4. Suppose that you have a data set, with $n=100$ points, with one independent variable $x$ and one response variable $y$. First, suppose that you fit a simple linear regression to the data. In addition, suppose that you also fit a cubic regression (that is, $\\hat{y} = \\hat{p}_0x^3 + \\hat{p}_1x^2 + \\hat{p}_2x + \\hat{p}_3$). \n",
    "\n",
    "* Which of the two models, the linear regression or the cubic regression, should be expected to have a smaller MSE on the data? Do we have enough information to tell? Explain your reasoning. Additionally, you may use computations on example data to support your conclusion. "
   ]
  },
  {
   "cell_type": "code",
   "execution_count": 380,
   "metadata": {},
   "outputs": [
    {
     "name": "stdout",
     "output_type": "stream",
     "text": [
      "MSE (linear) = 13.107820886560184\n",
      "MSE (cubic)  = 13.071311919557951\n"
     ]
    }
   ],
   "source": [
    "# Simple linear regression\n",
    "p_linear = np.polyfit(x, y, deg=1)  \n",
    "ssr_linear = np.sum( (np.polyval(p_linear,x) - y)**2 )\n",
    "mse_linear = ssr_linear / n\n",
    "\n",
    "# Cubic regression :\n",
    "p_cubic = np.polyfit(x, y, deg=3)  \n",
    "ssr_cubic = np.sum( (np.polyval(p_cubic,x) - y)**2 )\n",
    "mse_cubic = ssr_cubic / n\n",
    "\n",
    "print(\"MSE (linear) =\", mse_linear)\n",
    "print(\"MSE (cubic)  =\", mse_cubic)"
   ]
  },
  {
   "cell_type": "markdown",
   "metadata": {
    "jp-MarkdownHeadingCollapsed": true
   },
   "source": [
    "The linear model $ \\{b + m x\\} $ is a special case of the cubic model if we have: $ p_0 = p_1 = 0, \\quad p_2 = m, \\quad p_3 = b. $\n",
    "\n",
    "- Equivalently, the columns $ \\{1, x\\} $ in $ X_{\\text{lin}} $ are contained in the columns $ \\{x^3, x^2, x, 1\\} $ of $ X_{\\text{cubic}} $.\n",
    "- The space spanned by $ \\{1, x\\} $ is a subspace of the space spanned by $ \\{1, x, x^2, x^3\\} $.\n",
    "\n",
    "Since the cubic fit is allowed to use more columns (which allows for more degrees of freedom), it can always choose to set $ p_0 = p_1 = 0 $ and match the linear solution exactly if that turns out best. Or, it can choose nonzero $ p_0, p_1 $ to get an even better SSR.\n",
    "\n",
    "- Therefore, the best cubic fit cannot yield a larger SSR than the best linear fit—it can only be the same or smaller.\n",
    "- Dividing by $ n $ converts SSR to MSE, so:\n",
    "\n",
    "  $$\n",
    "  \\text{MSE}_{\\text{cubic}} \\leq \\text{MSE}_{\\text{linear}}.\n",
    "  $$\n",
    "\n",
    "**References:**\n",
    "- Used AI to help me properly write and format the mathematical formulas, matrices/vectors, and equations."
   ]
  },
  {
   "cell_type": "markdown",
   "metadata": {},
   "source": [
    "---"
   ]
  },
  {
   "cell_type": "markdown",
   "metadata": {},
   "source": [
    "**Extra challenge**\n",
    "\n",
    "5. Using the 'College.csv' data set again, compute a column (or array), `F_Undergrad_perc`, that has the percentage of undergraduate students that are full-time &ndash; e.g., if you read in the DataFrame as `college`, you could use `100*(college['F_Undergrad']/(college['F_Undergrad'] + college['P_Undergrad']))` to get this column.\n",
    "* With the column `Grad_Rate` as your response variable and the columns `perc_alumni`, `S_F_Ratio`, `Top25perc`, `F_Undergrad_perc`, and `Outstate` as your independent variables, use multiple linear regression on these variables to predict the values in `Grad_Rate`. What are the regression coefficients? \n",
    "* Which variable(s) are not significant.\n",
    "> In the analysis to estimate how much coefficients fluctuate relative to their size, use 100 subsamples that are at least half the size of the data set."
   ]
  },
  {
   "cell_type": "code",
   "execution_count": 403,
   "metadata": {},
   "outputs": [
    {
     "data": {
      "text/html": [
       "<div>\n",
       "<style scoped>\n",
       "    .dataframe tbody tr th:only-of-type {\n",
       "        vertical-align: middle;\n",
       "    }\n",
       "\n",
       "    .dataframe tbody tr th {\n",
       "        vertical-align: top;\n",
       "    }\n",
       "\n",
       "    .dataframe thead th {\n",
       "        text-align: right;\n",
       "    }\n",
       "</style>\n",
       "<table border=\"1\" class=\"dataframe\">\n",
       "  <thead>\n",
       "    <tr style=\"text-align: right;\">\n",
       "      <th></th>\n",
       "      <th>School</th>\n",
       "      <th>Private</th>\n",
       "      <th>Apps</th>\n",
       "      <th>Accept</th>\n",
       "      <th>Enroll</th>\n",
       "      <th>Top10perc</th>\n",
       "      <th>Top25perc</th>\n",
       "      <th>F_Undergrad</th>\n",
       "      <th>P_Undergrad</th>\n",
       "      <th>Outstate</th>\n",
       "      <th>Room_Board</th>\n",
       "      <th>Books</th>\n",
       "      <th>Personal</th>\n",
       "      <th>PhD</th>\n",
       "      <th>Terminal</th>\n",
       "      <th>S_F_Ratio</th>\n",
       "      <th>perc_alumni</th>\n",
       "      <th>Expend</th>\n",
       "      <th>Grad_Rate</th>\n",
       "      <th>F_Undergrad_perc</th>\n",
       "    </tr>\n",
       "  </thead>\n",
       "  <tbody>\n",
       "    <tr>\n",
       "      <th>0</th>\n",
       "      <td>Abilene Christian University</td>\n",
       "      <td>Yes</td>\n",
       "      <td>1660</td>\n",
       "      <td>1232</td>\n",
       "      <td>721</td>\n",
       "      <td>23</td>\n",
       "      <td>52</td>\n",
       "      <td>2885</td>\n",
       "      <td>537</td>\n",
       "      <td>7440</td>\n",
       "      <td>3300</td>\n",
       "      <td>450</td>\n",
       "      <td>2200</td>\n",
       "      <td>70</td>\n",
       "      <td>78</td>\n",
       "      <td>18.1</td>\n",
       "      <td>12</td>\n",
       "      <td>7041</td>\n",
       "      <td>60</td>\n",
       "      <td>84.307423</td>\n",
       "    </tr>\n",
       "    <tr>\n",
       "      <th>1</th>\n",
       "      <td>Adelphi University</td>\n",
       "      <td>Yes</td>\n",
       "      <td>2186</td>\n",
       "      <td>1924</td>\n",
       "      <td>512</td>\n",
       "      <td>16</td>\n",
       "      <td>29</td>\n",
       "      <td>2683</td>\n",
       "      <td>1227</td>\n",
       "      <td>12280</td>\n",
       "      <td>6450</td>\n",
       "      <td>750</td>\n",
       "      <td>1500</td>\n",
       "      <td>29</td>\n",
       "      <td>30</td>\n",
       "      <td>12.2</td>\n",
       "      <td>16</td>\n",
       "      <td>10527</td>\n",
       "      <td>56</td>\n",
       "      <td>68.618926</td>\n",
       "    </tr>\n",
       "    <tr>\n",
       "      <th>2</th>\n",
       "      <td>Adrian College</td>\n",
       "      <td>Yes</td>\n",
       "      <td>1428</td>\n",
       "      <td>1097</td>\n",
       "      <td>336</td>\n",
       "      <td>22</td>\n",
       "      <td>50</td>\n",
       "      <td>1036</td>\n",
       "      <td>99</td>\n",
       "      <td>11250</td>\n",
       "      <td>3750</td>\n",
       "      <td>400</td>\n",
       "      <td>1165</td>\n",
       "      <td>53</td>\n",
       "      <td>66</td>\n",
       "      <td>12.9</td>\n",
       "      <td>30</td>\n",
       "      <td>8735</td>\n",
       "      <td>54</td>\n",
       "      <td>91.277533</td>\n",
       "    </tr>\n",
       "    <tr>\n",
       "      <th>3</th>\n",
       "      <td>Agnes Scott College</td>\n",
       "      <td>Yes</td>\n",
       "      <td>417</td>\n",
       "      <td>349</td>\n",
       "      <td>137</td>\n",
       "      <td>60</td>\n",
       "      <td>89</td>\n",
       "      <td>510</td>\n",
       "      <td>63</td>\n",
       "      <td>12960</td>\n",
       "      <td>5450</td>\n",
       "      <td>450</td>\n",
       "      <td>875</td>\n",
       "      <td>92</td>\n",
       "      <td>97</td>\n",
       "      <td>7.7</td>\n",
       "      <td>37</td>\n",
       "      <td>19016</td>\n",
       "      <td>59</td>\n",
       "      <td>89.005236</td>\n",
       "    </tr>\n",
       "    <tr>\n",
       "      <th>4</th>\n",
       "      <td>Alaska Pacific University</td>\n",
       "      <td>Yes</td>\n",
       "      <td>193</td>\n",
       "      <td>146</td>\n",
       "      <td>55</td>\n",
       "      <td>16</td>\n",
       "      <td>44</td>\n",
       "      <td>249</td>\n",
       "      <td>869</td>\n",
       "      <td>7560</td>\n",
       "      <td>4120</td>\n",
       "      <td>800</td>\n",
       "      <td>1500</td>\n",
       "      <td>76</td>\n",
       "      <td>72</td>\n",
       "      <td>11.9</td>\n",
       "      <td>2</td>\n",
       "      <td>10922</td>\n",
       "      <td>15</td>\n",
       "      <td>22.271914</td>\n",
       "    </tr>\n",
       "  </tbody>\n",
       "</table>\n",
       "</div>"
      ],
      "text/plain": [
       "                         School Private  Apps  Accept  Enroll  Top10perc  \\\n",
       "0  Abilene Christian University     Yes  1660    1232     721         23   \n",
       "1            Adelphi University     Yes  2186    1924     512         16   \n",
       "2                Adrian College     Yes  1428    1097     336         22   \n",
       "3           Agnes Scott College     Yes   417     349     137         60   \n",
       "4     Alaska Pacific University     Yes   193     146      55         16   \n",
       "\n",
       "   Top25perc  F_Undergrad  P_Undergrad  Outstate  Room_Board  Books  Personal  \\\n",
       "0         52         2885          537      7440        3300    450      2200   \n",
       "1         29         2683         1227     12280        6450    750      1500   \n",
       "2         50         1036           99     11250        3750    400      1165   \n",
       "3         89          510           63     12960        5450    450       875   \n",
       "4         44          249          869      7560        4120    800      1500   \n",
       "\n",
       "   PhD  Terminal  S_F_Ratio  perc_alumni  Expend  Grad_Rate  F_Undergrad_perc  \n",
       "0   70        78       18.1           12    7041         60         84.307423  \n",
       "1   29        30       12.2           16   10527         56         68.618926  \n",
       "2   53        66       12.9           30    8735         54         91.277533  \n",
       "3   92        97        7.7           37   19016         59         89.005236  \n",
       "4   76        72       11.9            2   10922         15         22.271914  "
      ]
     },
     "execution_count": 403,
     "metadata": {},
     "output_type": "execute_result"
    }
   ],
   "source": [
    "# Creates F_Undergrad_perc column\n",
    "college_df[\"F_Undergrad_perc\"] = 100 * (college_df[\"F_Undergrad\"] / (college_df[\"F_Undergrad\"] + college_df[\"P_Undergrad\"]))\n",
    "college_df.head()"
   ]
  },
  {
   "cell_type": "markdown",
   "metadata": {},
   "source": [
    "**References:**\n",
    "- https://stackoverflow.com/questions/11479064/multiple-linear-regression-in-python\n",
    "- Used AI to help me properly write and format the mathematical formulas, matrices/vectors, and equations."
   ]
  },
  {
   "cell_type": "code",
   "execution_count": null,
   "metadata": {},
   "outputs": [],
   "source": []
  }
 ],
 "metadata": {
  "kernelspec": {
   "display_name": "Python [conda env:base] *",
   "language": "python",
   "name": "conda-base-py"
  },
  "language_info": {
   "codemirror_mode": {
    "name": "ipython",
    "version": 3
   },
   "file_extension": ".py",
   "mimetype": "text/x-python",
   "name": "python",
   "nbconvert_exporter": "python",
   "pygments_lexer": "ipython3",
   "version": "3.12.7"
  }
 },
 "nbformat": 4,
 "nbformat_minor": 4
}
