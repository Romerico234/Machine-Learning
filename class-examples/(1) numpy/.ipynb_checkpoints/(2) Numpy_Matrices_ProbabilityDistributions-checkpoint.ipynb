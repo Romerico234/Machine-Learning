{
 "cells": [
  {
   "cell_type": "markdown",
   "metadata": {},
   "source": [
    "## Lecture 3 - Random library of Numpy"
   ]
  },
  {
   "cell_type": "code",
   "execution_count": 1,
   "metadata": {},
   "outputs": [],
   "source": [
    "import numpy as np"
   ]
  },
  {
   "cell_type": "markdown",
   "metadata": {},
   "source": [
    "### Some of the methods"
   ]
  },
  {
   "cell_type": "markdown",
   "metadata": {
    "id": "GlDxQv-R8Dun"
   },
   "source": [
    "The methods in `numpy.random` allow you to draw samples from a variety of probability distributions. "
   ]
  },
  {
   "cell_type": "code",
   "execution_count": 13,
   "metadata": {
    "colab": {
     "base_uri": "https://localhost:8080/",
     "height": 51
    },
    "executionInfo": {
     "elapsed": 451,
     "status": "ok",
     "timestamp": 1598471411517,
     "user": {
      "displayName": "Christopher Cornwell",
      "photoUrl": "https://lh3.googleusercontent.com/a-/AOh14Gjx2-f5PsfjNxZ0XLBEhH0y7hRTT73yaFfuJR0djw=s64",
      "userId": "10439702716895294443"
     },
     "user_tz": 240
    },
    "id": "LccWmHI9Agnx",
    "outputId": "274a5712-f2be-470e-ef4e-0d129a4284ad"
   },
   "outputs": [
    {
     "name": "stdout",
     "output_type": "stream",
     "text": [
      "[7 5 7 6 7 7]\n",
      "[0 2 6 7 5 7]\n"
     ]
    }
   ],
   "source": [
    "# Sampling uniformly on a range of consecutive integers\n",
    "# To get 6 integers drawn uniformly from {0,1,2,...,9}  (10 is not included)\n",
    "\n",
    "# Sampling with replacement (allows duplicates)\n",
    "print(np.random.randint(0, 10, size=6))  \n",
    "\n",
    "# Sampling with replacement using np.random.choice (alternative way)\n",
    "print(np.random.choice(10, size=6, replace=True))  "
   ]
  },
  {
   "cell_type": "code",
   "execution_count": 17,
   "metadata": {
    "colab": {
     "base_uri": "https://localhost:8080/",
     "height": 34
    },
    "executionInfo": {
     "elapsed": 477,
     "status": "ok",
     "timestamp": 1598471422006,
     "user": {
      "displayName": "Christopher Cornwell",
      "photoUrl": "https://lh3.googleusercontent.com/a-/AOh14Gjx2-f5PsfjNxZ0XLBEhH0y7hRTT73yaFfuJR0djw=s64",
      "userId": "10439702716895294443"
     },
     "user_tz": 240
    },
    "id": "b8ZultR2BHuh",
    "outputId": "07266b66-bcf6-4209-8170-9d08b27d1c89"
   },
   "outputs": [
    {
     "name": "stdout",
     "output_type": "stream",
     "text": [
      "[7 1 3 5 8 2]\n"
     ]
    }
   ],
   "source": [
    "# If you want sampling without replacement (ensures unique values)...\n",
    "print(np.random.choice(10,size=6,replace=False))"
   ]
  },
  {
   "cell_type": "markdown",
   "metadata": {
    "id": "krIPWjTasTdo"
   },
   "source": [
    "> To get a sample from a uniform distribution on the interval $[0,1)$, you can use `np.random.random(size=n)`, with `n` being the number of samples you want.  However, you can also use the method `np.random.uniform()`.  For this method, you need to put in the left and right endpoint of the interval that you want, and then the size of the sample that you want."
   ]
  },
  {
   "cell_type": "code",
   "execution_count": 21,
   "metadata": {
    "colab": {
     "base_uri": "https://localhost:8080/"
    },
    "executionInfo": {
     "elapsed": 130,
     "status": "ok",
     "timestamp": 1716556429702,
     "user": {
      "displayName": "Christopher Cornwell",
      "userId": "10439702716895294443"
     },
     "user_tz": 240
    },
    "id": "X7lWCc1jtIBg",
    "outputId": "4be5d57a-7d81-4653-c49a-0501b8763d04"
   },
   "outputs": [
    {
     "name": "stdout",
     "output_type": "stream",
     "text": [
      "[0.04973296 0.57295382 0.48093964 0.81913009 0.91913513 0.62777942]\n",
      "[0.29909063 0.05051942 0.51686605 0.79034416 0.79128187 0.31055637]\n"
     ]
    }
   ],
   "source": [
    "'''\n",
    "A uniform distribution means that every possible value within a given range has an equal probability of being chosen\n",
    "- Discrete Uniform Distribution: When sampling from a finite set of integers (e.g., np.random.randint() or np.random.choice())\n",
    "- Continuous Uniform Distribution: When sampling from a continuous range (e.g., np.random.random() or np.random.uniform())\n",
    "'''\n",
    "\n",
    "print( np.random.random(size=6) )\n",
    "print( np.random.uniform(0,1, size=6) )  # these two sample from the same distribution (the first, random.random is \"legacy\", drawing from an old API)"
   ]
  },
  {
   "cell_type": "markdown",
   "metadata": {},
   "source": [
    "> A normal distribution (also called a bell curve) is a probability distribution that is symmetric around its mean. Most values are clustered near the mean, and the probability decreases as values move farther away from the mean."
   ]
  },
  {
   "cell_type": "markdown",
   "metadata": {
    "id": "jPj8RKK3v-2V"
   },
   "source": [
    "> To get a sample from a **normal distribution** with mean `mu` and standard deviation `sigma`, use `np.random.normal()`. You put in arguments: `loc=mu` and `scale=sigma` (standard deviation) as well as the desired sample size.  The default values for `loc` and `scale` are 0 and 1; if you don't put those arguments in then it will be from the distribution $\\mathcal N(0,1)$."
   ]
  },
  {
   "cell_type": "code",
   "execution_count": 32,
   "metadata": {
    "colab": {
     "base_uri": "https://localhost:8080/"
    },
    "executionInfo": {
     "elapsed": 104,
     "status": "ok",
     "timestamp": 1716556917819,
     "user": {
      "displayName": "Christopher Cornwell",
      "userId": "10439702716895294443"
     },
     "user_tz": 240
    },
    "id": "ry4E6xGFv_aN",
    "outputId": "472ea064-f585-4439-baa5-b18f0e7dd8f0"
   },
   "outputs": [
    {
     "name": "stdout",
     "output_type": "stream",
     "text": [
      "[-0.1029487  -0.0409722  -0.05321555  0.01965967  0.04597099  0.07308543]\n"
     ]
    }
   ],
   "source": [
    "# Sample from normal distribution (`loc` is the mean, default value is 0; `scale` is the standard deviation, default value is 1).\n",
    "print(np.random.normal(loc=0, scale=0.1, size=6)) # mean default is 0 and standard deviation default is 1"
   ]
  },
  {
   "cell_type": "markdown",
   "metadata": {
    "id": "nW3W2_Bx-qOT"
   },
   "source": [
    "> You can also make a random matrix, each entry drawn from the given distribution, by putting in an ordered pair for the size argument."
   ]
  },
  {
   "cell_type": "code",
   "execution_count": 36,
   "metadata": {
    "colab": {
     "base_uri": "https://localhost:8080/"
    },
    "executionInfo": {
     "elapsed": 98,
     "status": "ok",
     "timestamp": 1716560596231,
     "user": {
      "displayName": "Christopher Cornwell",
      "userId": "10439702716895294443"
     },
     "user_tz": 240
    },
    "id": "NfH5uZ7z-p4z",
    "outputId": "6469964f-f9c7-4202-d9da-71f1abb4000d"
   },
   "outputs": [
    {
     "name": "stdout",
     "output_type": "stream",
     "text": [
      "[[0.64377517 0.04136743 0.49465076 0.19892703]\n",
      " [0.23605672 0.31619303 0.52810448 0.10850497]\n",
      " [0.81200633 0.09225191 0.36037919 0.64753067]]\n"
     ]
    }
   ],
   "source": [
    "print(np.random.uniform(0, 1, size=(3,4))) # makes a 3x4 matrix with entries from Uniform(0,1)"
   ]
  },
  {
   "cell_type": "markdown",
   "metadata": {
    "id": "vqLcLqe9xLhf"
   },
   "source": [
    "### Visualizing the output"
   ]
  },
  {
   "cell_type": "markdown",
   "metadata": {
    "id": "zJ6zbG4exSHu"
   },
   "source": [
    "> Plotting in Python is typically done with the package [`matplotlib.pyplot`](https://matplotlib.org/stable/api/_as_gen/matplotlib.pyplot.plot.html).  Here is a [tutorial](https://matplotlib.org/stable/tutorials/pyplot.html).  There is also a package called [`seaborn`](https://seaborn.pydata.org/) with some tools that allow you to make the plots look nicer relatively easily."
   ]
  },
  {
   "cell_type": "code",
   "execution_count": 47,
   "metadata": {
    "executionInfo": {
     "elapsed": 106,
     "status": "ok",
     "timestamp": 1716557796535,
     "user": {
      "displayName": "Christopher Cornwell",
      "userId": "10439702716895294443"
     },
     "user_tz": 240
    },
    "id": "k1uXTkvo0QqL"
   },
   "outputs": [],
   "source": [
    "# import the pyplot package; (usually this would be done at the top of the worksheet)\n",
    "import matplotlib.pyplot as plt\n",
    "import seaborn\n",
    "seaborn.set_style('darkgrid')"
   ]
  },
  {
   "cell_type": "markdown",
   "metadata": {
    "id": "w6WA_--GyUnY"
   },
   "source": [
    "> The reason I brought up visualization here is that you can plot your random samples (a normalized histogram of them) along with a plot of the probability distribution function and see how they will roughly match."
   ]
  },
  {
   "cell_type": "markdown",
   "metadata": {},
   "source": [
    "### **Using Uniform Distribution on Interval [a, b)**\n",
    "\n",
    "- For a subinterval of width `δ`, the probability of getting a sample in that interval is:\n",
    "\n",
    "\n",
    "- **Consequence**: When plotting a **normalized histogram** of the sample over `[a, b]`, if the sample closely follows the distribution, the bars should be close to the height:"
   ]
  },
  {
   "cell_type": "code",
   "execution_count": 133,
   "metadata": {},
   "outputs": [],
   "source": [
    "# Example: Below is an example of uniform distribution with a sample of size 50, drawn from uniform(0, 5)\n",
    "\n",
    "'''\n",
    "NOTE: A larger sample size will (on average) give a distribution that is closer to\n",
    "the true one. For example, by changing our previous code so that the\n",
    "sample size is 5000, we can see the sample distribution get much closer\n",
    "'''\n",
    "sample = np.random.uniform(0, 5,size=50)"
   ]
  },
  {
   "cell_type": "markdown",
   "metadata": {},
   "source": [
    "> **Arguments in `plt.plot()`:**\n",
    "> - The first argument is a list of **x** coordinates.\n",
    "> - The second argument is a list of **y** coordinates.\n",
    "> - Both lists must have the **same length** and are **one-to-one mappings** of each other."
   ]
  },
  {
   "cell_type": "code",
   "execution_count": 131,
   "metadata": {},
   "outputs": [
    {
     "data": {
      "image/png": "[encoded data removed]",
      "text/plain": [
       "<Figure size 640x480 with 1 Axes>"
      ]
     },
     "metadata": {},
     "output_type": "display_data"
    }
   ],
   "source": [
    "xx = np.linspace(0,5)\n",
    "yy = [1/5]*len(xx)\n",
    "plt.plot(xx, yy, color='black') \n",
    "# plt.hist(sample, bins=10)\n",
    "plt.hist(sample, bins=10, density=True) \n",
    "plt.show()"
   ]
  },
  {
   "cell_type": "markdown",
   "metadata": {},
   "source": [
    "Using the normal distribution, with mean `μ` and standard deviation `σ`, the density function is:\n",
    "\n",
    "$$ p(x) = \\frac{1}{\\sqrt{2\\pi\\sigma^2}} e^{-\\frac{(x-\\mu)^2}{2\\sigma^2}} $$"
   ]
  },
  {
   "cell_type": "code",
   "execution_count": 162,
   "metadata": {},
   "outputs": [],
   "source": [
    "# Example: Below is an example of the normal distribution\n",
    "\n",
    "# np.linspace() creates an array of linearly spaced values over a specified range\n",
    "xx = np.linspace(-3,3)\n",
    "sample = np.random.normal(loc=0,scale=1,size=10000) # loc means mean, scale means standard deviation"
   ]
  },
  {
   "cell_type": "code",
   "execution_count": 164,
   "metadata": {},
   "outputs": [
    {
     "data": {
      "image/png": "[encoded data removed]",
      "text/plain": [
       "<Figure size 640x480 with 1 Axes>"
      ]
     },
     "metadata": {},
     "output_type": "display_data"
    }
   ],
   "source": [
    "plt.plot(xx, np.exp(-(xx-0)**2/(2*1))/np.sqrt(2*np.pi*1), color='black') #np.pi gives the constant pi\n",
    "plt.hist(sample, bins=20, density=True)\n",
    "plt.show()"
   ]
  },
  {
   "cell_type": "markdown",
   "metadata": {},
   "source": [
    "### Custom functions"
   ]
  },
  {
   "cell_type": "code",
   "execution_count": 43,
   "metadata": {},
   "outputs": [],
   "source": [
    "def my_function(v):\n",
    "  # body of function\n",
    "  return #the output"
   ]
  },
  {
   "cell_type": "code",
   "execution_count": 23,
   "metadata": {},
   "outputs": [],
   "source": [
    "def coloring(array_of_points):\n",
    "    ref_vector = np.array([2,-2/3])\n",
    "    dotvalues = array_of_points@ref_vector\n",
    "    colors = np.array(['darkblue' if v < 0 else 'salmon' for v in dotvalues])\n",
    "    return colors"
   ]
  },
  {
   "cell_type": "code",
   "execution_count": 29,
   "metadata": {},
   "outputs": [],
   "source": [
    "p = np.random.uniform(-1,1,size=(500,2))"
   ]
  },
  {
   "cell_type": "code",
   "execution_count": null,
   "metadata": {},
   "outputs": [],
   "source": [
    "plt.scatter(p[:,0], p[:,1], c=mycolors, edgecolors='black')\n",
    "plt.show()"
   ]
  },
  {
   "cell_type": "code",
   "execution_count": null,
   "metadata": {},
   "outputs": [],
   "source": []
  },
  {
   "cell_type": "markdown",
   "metadata": {},
   "source": [
    "### Importing data"
   ]
  },
  {
   "cell_type": "code",
   "execution_count": 4,
   "metadata": {},
   "outputs": [],
   "source": [
    "# use Pandas, usually would do this at the beginning of the notebook\n",
    "import pandas as pd"
   ]
  },
  {
   "cell_type": "code",
   "execution_count": 5,
   "metadata": {},
   "outputs": [],
   "source": [
    "# code to import data\n",
    "df = pd.read_csv('summer.csv')"
   ]
  },
  {
   "cell_type": "code",
   "execution_count": null,
   "metadata": {},
   "outputs": [],
   "source": [
    "np.polyfit(x,y,1)"
   ]
  }
 ],
 "metadata": {
  "colab": {
   "authorship_tag": "ABX9TyPz40qvFU28vWRHbmBuKciJ",
   "collapsed_sections": [
    "AHjCaXah3a64"
   ],
   "provenance": []
  },
  "kernelspec": {
   "display_name": "Python [conda env:base] *",
   "language": "python",
   "name": "conda-base-py"
  },
  "language_info": {
   "codemirror_mode": {
    "name": "ipython",
    "version": 3
   },
   "file_extension": ".py",
   "mimetype": "text/x-python",
   "name": "python",
   "nbconvert_exporter": "python",
   "pygments_lexer": "ipython3",
   "version": "3.11.7"
  }
 },
 "nbformat": 4,
 "nbformat_minor": 4
}
